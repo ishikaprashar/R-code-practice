{
 "cells": [
  {
   "cell_type": "markdown",
   "id": "8601decf",
   "metadata": {},
   "source": [
    "# EEP/IAS 118 - Introductory Applied Econometrics\n",
    "\n",
    "## Problem Set 4, Spring 2023, Villas-Boas\n",
    "\n",
    "#### <span style=\"text-decoration: underline\">Due in Gradescope – see deadline due time  in Gradescope – April 4, 2023</span> \n",
    "\n",
    "Submit materials as **one pdf** on [Gradescope](https://www.gradescope.com/courses/492989). After uploading the pdf to Gradescope, please **assign all and only the appropriate pages to each question**. Questions that do not have properly assigned pages on Gradescope may not be graded. Codes and outputs not properly displayed will be marked as incorrect."
   ]
  },
  {
   "cell_type": "markdown",
   "id": "cfdd492a",
   "metadata": {},
   "source": [
    "**For full credit**, all confidence intervals/hypothesis tests must be conducted by hand - you can use functions like sd() or mean() to get values to plug into the formulas, but no credit will be given for the use of canned interval/test functions (i.e. linearHypothesis()) with no steps/calculations provided. Do not round any intermediate steps or final answers to less than four decimal digits."
   ]
  },
  {
   "cell_type": "markdown",
   "id": "4cc62bea",
   "metadata": {},
   "source": [
    "### Preamble\n",
    "When writing R code, it's a good habit to start your notebooks or R scripts with a preamble, a section where you load all necessary packages, set paths or change the working directory, or declare other options.\n",
    "\n",
    "Use the below code cell to load in packages you will use throughout the problem set (at least `haven`, `tidyverse` and `ggplot` this week). \n",
    "\n",
    "*Note:* **never** try to install packages on Datahub. All packages that you need are already installed and can be loaded immediately using the `library()` function. Attempting to install packages will create conflicts with the package versions on the server and potentially corrupt your notebook."
   ]
  },
  {
   "cell_type": "code",
   "execution_count": 1,
   "id": "8bd35d4a",
   "metadata": {},
   "outputs": [
    {
     "name": "stderr",
     "output_type": "stream",
     "text": [
      "── \u001b[1mAttaching packages\u001b[22m ─────────────────────────────────────── tidyverse 1.3.0 ──\n",
      "\n",
      "\u001b[32m✔\u001b[39m \u001b[34mggplot2\u001b[39m 3.4.2     \u001b[32m✔\u001b[39m \u001b[34mpurrr  \u001b[39m 1.0.1\n",
      "\u001b[32m✔\u001b[39m \u001b[34mtibble \u001b[39m 3.2.1     \u001b[32m✔\u001b[39m \u001b[34mdplyr  \u001b[39m 1.1.2\n",
      "\u001b[32m✔\u001b[39m \u001b[34mtidyr  \u001b[39m 1.3.0     \u001b[32m✔\u001b[39m \u001b[34mstringr\u001b[39m 1.5.0\n",
      "\u001b[32m✔\u001b[39m \u001b[34mreadr  \u001b[39m 2.1.4     \u001b[32m✔\u001b[39m \u001b[34mforcats\u001b[39m 1.0.0\n",
      "\n",
      "── \u001b[1mConflicts\u001b[22m ────────────────────────────────────────── tidyverse_conflicts() ──\n",
      "\u001b[31m✖\u001b[39m \u001b[34mdplyr\u001b[39m::\u001b[32mfilter()\u001b[39m masks \u001b[34mstats\u001b[39m::filter()\n",
      "\u001b[31m✖\u001b[39m \u001b[34mdplyr\u001b[39m::\u001b[32mlag()\u001b[39m    masks \u001b[34mstats\u001b[39m::lag()\n",
      "\n"
     ]
    }
   ],
   "source": [
    "# insert your code here\n",
    "library(haven)\n",
    "library(tidyverse)\n",
    "library(ggplot2)\n",
    "library(lm.beta)"
   ]
  },
  {
   "cell_type": "markdown",
   "id": "48fa6c28",
   "metadata": {},
   "source": [
    "### Exercise 1. \n",
    "\n",
    "In this problem set, we use a dataset on the annual salary of executives and the characteristics of the firm, and the firm's outcomes. This exercise is to be completed using R. If the labor market does not value a characteristic of the employer such as an outcome in the firm that the executive is responsible for (i.e. the value of sales or change in the rate of return) or the years of tenure as an executive (proxying experience), the demand for those executives and their salary goes downs and vice versa.\n",
    "\n",
    "*Note: log refers to the natural log, ln().*"
   ]
  },
  {
   "cell_type": "markdown",
   "id": "4ed7552f",
   "metadata": {},
   "source": [
    "| VARIABLE | Definition\t|\n",
    "|:-:|:-:|\n",
    "| SALARY\t| annual CEO salary (including bonuses) in 1990 (in thousands USD)  |\n",
    "| SALES | firm sales in 1990 (in millions USD) |\n",
    "| ROE | average return on equity, 1988–1990 (in percent)  |\n",
    "| FINANCE | = 1 if a financial company, 0 otherwise | \n"
   ]
  },
  {
   "cell_type": "markdown",
   "id": "1e27d8a3",
   "metadata": {},
   "source": [
    "#### Q1-1. ####\n",
    "Read the data and create the log of salary as an additional column in the data. Call this variable lsalary. Note: The dataset is in Stata. It is available on bCourses and is called pset4_2023.DTA."
   ]
  },
  {
   "cell_type": "code",
   "execution_count": 2,
   "id": "b41ba4ed",
   "metadata": {},
   "outputs": [
    {
     "data": {
      "text/html": [
       "<table class=\"dataframe\">\n",
       "<caption>A tibble: 6 × 12</caption>\n",
       "<thead>\n",
       "\t<tr><th scope=col>salary</th><th scope=col>pcsalary</th><th scope=col>sales</th><th scope=col>roe</th><th scope=col>pcroe</th><th scope=col>ros</th><th scope=col>indus</th><th scope=col>finance</th><th scope=col>consprod</th><th scope=col>utility</th><th scope=col>lsalary</th><th scope=col>lsales</th></tr>\n",
       "\t<tr><th scope=col>&lt;dbl&gt;</th><th scope=col>&lt;dbl&gt;</th><th scope=col>&lt;dbl&gt;</th><th scope=col>&lt;dbl&gt;</th><th scope=col>&lt;dbl&gt;</th><th scope=col>&lt;dbl&gt;</th><th scope=col>&lt;dbl&gt;</th><th scope=col>&lt;dbl&gt;</th><th scope=col>&lt;dbl&gt;</th><th scope=col>&lt;dbl&gt;</th><th scope=col>&lt;dbl&gt;</th><th scope=col>&lt;dbl&gt;</th></tr>\n",
       "</thead>\n",
       "<tbody>\n",
       "\t<tr><td>1095</td><td>20</td><td>27595.0</td><td>14.1</td><td>106.4</td><td>191</td><td>1</td><td>0</td><td>0</td><td>0</td><td>6.998510</td><td>10.225389</td></tr>\n",
       "\t<tr><td>1001</td><td>32</td><td> 9958.0</td><td>10.9</td><td>-30.6</td><td> 13</td><td>1</td><td>0</td><td>0</td><td>0</td><td>6.908755</td><td> 9.206132</td></tr>\n",
       "\t<tr><td>1122</td><td> 9</td><td> 6125.9</td><td>23.5</td><td>-16.3</td><td> 14</td><td>1</td><td>0</td><td>0</td><td>0</td><td>7.022868</td><td> 8.720281</td></tr>\n",
       "\t<tr><td> 578</td><td>-9</td><td>16246.0</td><td> 5.9</td><td>-25.7</td><td>-21</td><td>1</td><td>0</td><td>0</td><td>0</td><td>6.359574</td><td> 9.695602</td></tr>\n",
       "\t<tr><td>1368</td><td> 7</td><td>21783.2</td><td>13.8</td><td> -3.0</td><td> 56</td><td>1</td><td>0</td><td>0</td><td>0</td><td>7.221105</td><td> 9.988894</td></tr>\n",
       "\t<tr><td>1145</td><td> 5</td><td> 6021.4</td><td>20.0</td><td>  1.0</td><td> 55</td><td>1</td><td>0</td><td>0</td><td>0</td><td>7.043160</td><td> 8.703075</td></tr>\n",
       "</tbody>\n",
       "</table>\n"
      ],
      "text/latex": [
       "A tibble: 6 × 12\n",
       "\\begin{tabular}{llllllllllll}\n",
       " salary & pcsalary & sales & roe & pcroe & ros & indus & finance & consprod & utility & lsalary & lsales\\\\\n",
       " <dbl> & <dbl> & <dbl> & <dbl> & <dbl> & <dbl> & <dbl> & <dbl> & <dbl> & <dbl> & <dbl> & <dbl>\\\\\n",
       "\\hline\n",
       "\t 1095 & 20 & 27595.0 & 14.1 & 106.4 & 191 & 1 & 0 & 0 & 0 & 6.998510 & 10.225389\\\\\n",
       "\t 1001 & 32 &  9958.0 & 10.9 & -30.6 &  13 & 1 & 0 & 0 & 0 & 6.908755 &  9.206132\\\\\n",
       "\t 1122 &  9 &  6125.9 & 23.5 & -16.3 &  14 & 1 & 0 & 0 & 0 & 7.022868 &  8.720281\\\\\n",
       "\t  578 & -9 & 16246.0 &  5.9 & -25.7 & -21 & 1 & 0 & 0 & 0 & 6.359574 &  9.695602\\\\\n",
       "\t 1368 &  7 & 21783.2 & 13.8 &  -3.0 &  56 & 1 & 0 & 0 & 0 & 7.221105 &  9.988894\\\\\n",
       "\t 1145 &  5 &  6021.4 & 20.0 &   1.0 &  55 & 1 & 0 & 0 & 0 & 7.043160 &  8.703075\\\\\n",
       "\\end{tabular}\n"
      ],
      "text/markdown": [
       "\n",
       "A tibble: 6 × 12\n",
       "\n",
       "| salary &lt;dbl&gt; | pcsalary &lt;dbl&gt; | sales &lt;dbl&gt; | roe &lt;dbl&gt; | pcroe &lt;dbl&gt; | ros &lt;dbl&gt; | indus &lt;dbl&gt; | finance &lt;dbl&gt; | consprod &lt;dbl&gt; | utility &lt;dbl&gt; | lsalary &lt;dbl&gt; | lsales &lt;dbl&gt; |\n",
       "|---|---|---|---|---|---|---|---|---|---|---|---|\n",
       "| 1095 | 20 | 27595.0 | 14.1 | 106.4 | 191 | 1 | 0 | 0 | 0 | 6.998510 | 10.225389 |\n",
       "| 1001 | 32 |  9958.0 | 10.9 | -30.6 |  13 | 1 | 0 | 0 | 0 | 6.908755 |  9.206132 |\n",
       "| 1122 |  9 |  6125.9 | 23.5 | -16.3 |  14 | 1 | 0 | 0 | 0 | 7.022868 |  8.720281 |\n",
       "|  578 | -9 | 16246.0 |  5.9 | -25.7 | -21 | 1 | 0 | 0 | 0 | 6.359574 |  9.695602 |\n",
       "| 1368 |  7 | 21783.2 | 13.8 |  -3.0 |  56 | 1 | 0 | 0 | 0 | 7.221105 |  9.988894 |\n",
       "| 1145 |  5 |  6021.4 | 20.0 |   1.0 |  55 | 1 | 0 | 0 | 0 | 7.043160 |  8.703075 |\n",
       "\n"
      ],
      "text/plain": [
       "  salary pcsalary sales   roe  pcroe ros indus finance consprod utility\n",
       "1 1095   20       27595.0 14.1 106.4 191 1     0       0        0      \n",
       "2 1001   32        9958.0 10.9 -30.6  13 1     0       0        0      \n",
       "3 1122    9        6125.9 23.5 -16.3  14 1     0       0        0      \n",
       "4  578   -9       16246.0  5.9 -25.7 -21 1     0       0        0      \n",
       "5 1368    7       21783.2 13.8  -3.0  56 1     0       0        0      \n",
       "6 1145    5        6021.4 20.0   1.0  55 1     0       0        0      \n",
       "  lsalary  lsales   \n",
       "1 6.998510 10.225389\n",
       "2 6.908755  9.206132\n",
       "3 7.022868  8.720281\n",
       "4 6.359574  9.695602\n",
       "5 7.221105  9.988894\n",
       "6 7.043160  8.703075"
      ]
     },
     "metadata": {},
     "output_type": "display_data"
    }
   ],
   "source": [
    "# insert your code here\n",
    "pset4 <- read_dta(\"pset4_2023.DTA\")\n",
    "pset4n <- mutate(pset4, lsalary = log(salary))\n",
    "head(pset4n)"
   ]
  },
  {
   "cell_type": "markdown",
   "id": "990bc551",
   "metadata": {},
   "source": [
    "#### Q1-2 ####\n",
    "For *only* the following variables, report the sample mean, standard deviation, minimum, and maximum: salary, log salary, average return on equity, sales, and whether the company is a financial one (Hint: summarise()) \n",
    "\n",
    "Coding outputs from summarise() is sufficient, as long as what variable and summary stats each number pertains to is clear - no need to worry about unit / unit conversion."
   ]
  },
  {
   "cell_type": "code",
   "execution_count": 3,
   "id": "5fb4868e",
   "metadata": {},
   "outputs": [
    {
     "data": {
      "text/html": [
       "<table class=\"dataframe\">\n",
       "<caption>A matrix: 20 × 1 of type dbl</caption>\n",
       "<tbody>\n",
       "\t<tr><th scope=row>salary_avg</th><td>1.281120e+03</td></tr>\n",
       "\t<tr><th scope=row>salary_SD</th><td>1.372345e+03</td></tr>\n",
       "\t<tr><th scope=row>salary_min</th><td>2.230000e+02</td></tr>\n",
       "\t<tr><th scope=row>salary_max</th><td>1.482200e+04</td></tr>\n",
       "\t<tr><th scope=row>lsalary_avg</th><td>6.950386e+00</td></tr>\n",
       "\t<tr><th scope=row>lsalary_SD</th><td>5.663741e-01</td></tr>\n",
       "\t<tr><th scope=row>lsalary_min</th><td>5.407172e+00</td></tr>\n",
       "\t<tr><th scope=row>lsalary_max</th><td>9.603868e+00</td></tr>\n",
       "\t<tr><th scope=row>roe_avg</th><td>1.718421e+01</td></tr>\n",
       "\t<tr><th scope=row>roe_SD</th><td>8.518509e+00</td></tr>\n",
       "\t<tr><th scope=row>roe_min</th><td>5.000000e-01</td></tr>\n",
       "\t<tr><th scope=row>roe_max</th><td>5.630000e+01</td></tr>\n",
       "\t<tr><th scope=row>sales_avg</th><td>6.923793e+03</td></tr>\n",
       "\t<tr><th scope=row>sales_SD</th><td>1.063327e+04</td></tr>\n",
       "\t<tr><th scope=row>sales_min</th><td>1.752000e+02</td></tr>\n",
       "\t<tr><th scope=row>sales_max</th><td>9.764990e+04</td></tr>\n",
       "\t<tr><th scope=row>finance_avg</th><td>2.200957e-01</td></tr>\n",
       "\t<tr><th scope=row>finance_SD</th><td>4.153057e-01</td></tr>\n",
       "\t<tr><th scope=row>finance_min</th><td>0.000000e+00</td></tr>\n",
       "\t<tr><th scope=row>finance_max</th><td>1.000000e+00</td></tr>\n",
       "</tbody>\n",
       "</table>\n"
      ],
      "text/latex": [
       "A matrix: 20 × 1 of type dbl\n",
       "\\begin{tabular}{r|l}\n",
       "\tsalary\\_avg & 1.281120e+03\\\\\n",
       "\tsalary\\_SD & 1.372345e+03\\\\\n",
       "\tsalary\\_min & 2.230000e+02\\\\\n",
       "\tsalary\\_max & 1.482200e+04\\\\\n",
       "\tlsalary\\_avg & 6.950386e+00\\\\\n",
       "\tlsalary\\_SD & 5.663741e-01\\\\\n",
       "\tlsalary\\_min & 5.407172e+00\\\\\n",
       "\tlsalary\\_max & 9.603868e+00\\\\\n",
       "\troe\\_avg & 1.718421e+01\\\\\n",
       "\troe\\_SD & 8.518509e+00\\\\\n",
       "\troe\\_min & 5.000000e-01\\\\\n",
       "\troe\\_max & 5.630000e+01\\\\\n",
       "\tsales\\_avg & 6.923793e+03\\\\\n",
       "\tsales\\_SD & 1.063327e+04\\\\\n",
       "\tsales\\_min & 1.752000e+02\\\\\n",
       "\tsales\\_max & 9.764990e+04\\\\\n",
       "\tfinance\\_avg & 2.200957e-01\\\\\n",
       "\tfinance\\_SD & 4.153057e-01\\\\\n",
       "\tfinance\\_min & 0.000000e+00\\\\\n",
       "\tfinance\\_max & 1.000000e+00\\\\\n",
       "\\end{tabular}\n"
      ],
      "text/markdown": [
       "\n",
       "A matrix: 20 × 1 of type dbl\n",
       "\n",
       "| salary_avg | 1.281120e+03 |\n",
       "| salary_SD | 1.372345e+03 |\n",
       "| salary_min | 2.230000e+02 |\n",
       "| salary_max | 1.482200e+04 |\n",
       "| lsalary_avg | 6.950386e+00 |\n",
       "| lsalary_SD | 5.663741e-01 |\n",
       "| lsalary_min | 5.407172e+00 |\n",
       "| lsalary_max | 9.603868e+00 |\n",
       "| roe_avg | 1.718421e+01 |\n",
       "| roe_SD | 8.518509e+00 |\n",
       "| roe_min | 5.000000e-01 |\n",
       "| roe_max | 5.630000e+01 |\n",
       "| sales_avg | 6.923793e+03 |\n",
       "| sales_SD | 1.063327e+04 |\n",
       "| sales_min | 1.752000e+02 |\n",
       "| sales_max | 9.764990e+04 |\n",
       "| finance_avg | 2.200957e-01 |\n",
       "| finance_SD | 4.153057e-01 |\n",
       "| finance_min | 0.000000e+00 |\n",
       "| finance_max | 1.000000e+00 |\n",
       "\n"
      ],
      "text/plain": [
       "            [,1]        \n",
       "salary_avg  1.281120e+03\n",
       "salary_SD   1.372345e+03\n",
       "salary_min  2.230000e+02\n",
       "salary_max  1.482200e+04\n",
       "lsalary_avg 6.950386e+00\n",
       "lsalary_SD  5.663741e-01\n",
       "lsalary_min 5.407172e+00\n",
       "lsalary_max 9.603868e+00\n",
       "roe_avg     1.718421e+01\n",
       "roe_SD      8.518509e+00\n",
       "roe_min     5.000000e-01\n",
       "roe_max     5.630000e+01\n",
       "sales_avg   6.923793e+03\n",
       "sales_SD    1.063327e+04\n",
       "sales_min   1.752000e+02\n",
       "sales_max   9.764990e+04\n",
       "finance_avg 2.200957e-01\n",
       "finance_SD  4.153057e-01\n",
       "finance_min 0.000000e+00\n",
       "finance_max 1.000000e+00"
      ]
     },
     "metadata": {},
     "output_type": "display_data"
    }
   ],
   "source": [
    "# insert your code here\n",
    "t(summarise(pset4n, \n",
    "          across(.cols = c(salary, lsalary, roe, sales, finance),\n",
    "                 .fns = list(avg = mean, SD = sd, min=min,max=max))\n",
    "          ))"
   ]
  },
  {
   "cell_type": "markdown",
   "id": "7db6aadb",
   "metadata": {},
   "source": [
    "#### Q1-3 ####\n",
    "(a) Create a histogram for the CEO salary. Label everything: add axis titles and a main title. (Hint: see the Histograms section of Coding Bootcamp Part 4) \n",
    "\n",
    "(b) Then, plot another histogram for CEO salary in the financial sector. \n",
    "\n",
    "(c) Finally, plot the same graph for CEO salary not in the finance sector. \n",
    "\n",
    "(d) What is the average CEO salary for each group? (Remember, units and unit conversion.)\n",
    "\n",
    "(e) Overlap both histograms into the same figure."
   ]
  },
  {
   "cell_type": "code",
   "execution_count": 4,
   "id": "129cee4d",
   "metadata": {},
   "outputs": [
    {
     "data": {
      "image/png": "[encoded data removed]",
      "text/plain": [
       "plot without title"
      ]
     },
     "metadata": {
      "image/png": {
       "height": 420,
       "width": 420
      }
     },
     "output_type": "display_data"
    }
   ],
   "source": [
    "# insert your code here (a)\n",
    "ggplot(data = pset4n, aes(x = salary)) +\n",
    "    geom_histogram(binwidth = 750, colour = \"grey60\", \n",
    "                   fill = \"darkolivegreen1\") +\n",
    "    labs(title = \"CEO Salary Histogram\",\n",
    "        x = \"annual CEO salary (including bonuses) in \n",
    "1990 (in thousands USD)\",\n",
    "        y = \"Count\")\n"
   ]
  },
  {
   "cell_type": "code",
   "execution_count": 5,
   "id": "f8cf05c8",
   "metadata": {},
   "outputs": [
    {
     "data": {
      "image/png": "[encoded data removed]",
      "text/plain": [
       "plot without title"
      ]
     },
     "metadata": {
      "image/png": {
       "height": 420,
       "width": 420
      }
     },
     "output_type": "display_data"
    }
   ],
   "source": [
    "# insert your code here (b)\n",
    "\n",
    "pset4n %>%\n",
    "    filter(finance == 1) %>%\n",
    "    ggplot(aes(x = salary)) +\n",
    "    geom_histogram(binwidth = 750, colour = \"grey60\", \n",
    "                   fill = \"darkolivegreen1\") +\n",
    "    labs(title = \"CEO Salary Histogram\",\n",
    "        x = \"annual CEO salary (including bonuses) in \n",
    "1990 (in thousands USD)\",\n",
    "        y = \"Count\")"
   ]
  },
  {
   "cell_type": "code",
   "execution_count": 6,
   "id": "f0d483c5",
   "metadata": {},
   "outputs": [
    {
     "data": {
      "image/png": "[encoded data removed]",
      "text/plain": [
       "plot without title"
      ]
     },
     "metadata": {
      "image/png": {
       "height": 420,
       "width": 420
      }
     },
     "output_type": "display_data"
    }
   ],
   "source": [
    "# insert your code here (c)\n",
    "pset4n %>%\n",
    "    filter(finance == 0) %>%\n",
    "    ggplot(aes(x = salary)) +\n",
    "    geom_histogram(binwidth = 750, colour = \"grey60\", \n",
    "                   fill = \"darkolivegreen1\") +\n",
    "    labs(title = \"CEO Salary Histogram\",\n",
    "        x = \"annual CEO salary (including bonuses) in \n",
    "1990 (in thousands USD)\",\n",
    "        y = \"Count\")"
   ]
  },
  {
   "cell_type": "code",
   "execution_count": 7,
   "id": "702da105",
   "metadata": {},
   "outputs": [
    {
     "data": {
      "text/html": [
       "1344913.04347826"
      ],
      "text/latex": [
       "1344913.04347826"
      ],
      "text/markdown": [
       "1344913.04347826"
      ],
      "text/plain": [
       "[1] 1344913"
      ]
     },
     "metadata": {},
     "output_type": "display_data"
    },
    {
     "data": {
      "text/html": [
       "1263116.56441718"
      ],
      "text/latex": [
       "1263116.56441718"
      ],
      "text/markdown": [
       "1263116.56441718"
      ],
      "text/plain": [
       "[1] 1263117"
      ]
     },
     "metadata": {},
     "output_type": "display_data"
    }
   ],
   "source": [
    "# insert your code here (d)\n",
    "mean(filter(pset4n, finance==1)$salary)*1000\n",
    "mean(filter(pset4n, finance==0)$salary)*1000"
   ]
  },
  {
   "cell_type": "markdown",
   "id": "7e874570",
   "metadata": {},
   "source": [
    "➡️ Type your written answer for _Exercise 1 Question 3d_ here (replacing this text).\n",
    "\n",
    "The annual CEO salary for CEO's in the finance sector in 1990 is 1344913.04347826 dollars and the annual CEO salary for CEO's not in the finance section in 1990 is 1263116.56441718 dollars"
   ]
  },
  {
   "cell_type": "code",
   "execution_count": 8,
   "id": "6829131e",
   "metadata": {},
   "outputs": [
    {
     "data": {
      "image/png": "[encoded data removed]",
      "text/plain": [
       "plot without title"
      ]
     },
     "metadata": {
      "image/png": {
       "height": 420,
       "width": 420
      }
     },
     "output_type": "display_data"
    }
   ],
   "source": [
    "# insert your code here (e)\n",
    "ggplot(data = pset4n, aes(x = salary)) +\n",
    "    geom_histogram(aes(fill = factor(finance)), \n",
    "                   position = \"identity\", \n",
    "                   alpha = 0.3, binwidth = 1700) +\n",
    "    labs(title = \"CEO Salary Histogram by Finance sector\",\n",
    "         subtitle = \"By Gender\",\n",
    "         x = \"Annual CEO salary (including bonuses) in \n",
    "1990 (in thousands USD)\",\n",
    "         y = \"Count\")"
   ]
  },
  {
   "cell_type": "markdown",
   "id": "5cdd7542",
   "metadata": {},
   "source": [
    "#### Q1-4 ####\n",
    "Estimate the model of salary as a linear function of a constant, firm’s sales, and average ROE. Comment on the estimated intercept and each of the right-hand side variables’ estimated parameters in terms of Sign, Size, and Significance (SSS)."
   ]
  },
  {
   "cell_type": "code",
   "execution_count": 9,
   "id": "5ca970a0",
   "metadata": {},
   "outputs": [
    {
     "data": {
      "text/plain": [
       "\n",
       "Call:\n",
       "lm(formula = salary ~ sales + roe, data = pset4n)\n",
       "\n",
       "Residuals:\n",
       "    Min      1Q  Median      3Q     Max \n",
       "-1501.8  -492.6  -232.0   123.3 13575.2 \n",
       "\n",
       "Coefficients:\n",
       "             Estimate Std. Error t value Pr(>|t|)    \n",
       "(Intercept) 8.306e+02  2.239e+02   3.710 0.000267 ***\n",
       "sales       1.634e-02  8.874e-03   1.842 0.066973 .  \n",
       "roe         1.963e+01  1.108e+01   1.772 0.077823 .  \n",
       "---\n",
       "Signif. codes:  0 ‘***’ 0.001 ‘**’ 0.01 ‘*’ 0.05 ‘.’ 0.1 ‘ ’ 1\n",
       "\n",
       "Residual standard error: 1359 on 206 degrees of freedom\n",
       "Multiple R-squared:  0.02917,\tAdjusted R-squared:  0.01975 \n",
       "F-statistic: 3.095 on 2 and 206 DF,  p-value: 0.04739\n"
      ]
     },
     "metadata": {},
     "output_type": "display_data"
    }
   ],
   "source": [
    "# insert your code here\n",
    "lmsalary = lm(salary~sales+roe, data = pset4n)\n",
    "#Create the linear regression\n",
    "summary(lmsalary) #Review the results"
   ]
  },
  {
   "cell_type": "markdown",
   "id": "6e2384d9",
   "metadata": {},
   "source": [
    "➡️ Type your written answer for _Exercise 1 Question 4 Intercept_ here (replacing this text).\n",
    "\n",
    "The coefficient for the intercept is 830.6 (in thousands) which equals 830.6*1000 = 830600 dollars. This means that when sales is 0 and roe is 0 then the predicted estimated CEO salary is 830600 dollars. The **sign** is positive which means that even though there are 0 usd in sales and 0 usd average return on equity, estimated CEO salary is still a positive number so even with no change in sales or reo estimated salary is still at 830600 dollars. The **size** referes to the interpretation that at 0 usd in sales and 0 usd reo estimated salary is still a fairly high amount at 830600 dollars. For **significance** given that the pvalue of the intercept is 0.000267 so the coefficient is statistically significant at the .1% level (which implies that it is also significant at the 1%, 5%, and 10% levels).  "
   ]
  },
  {
   "cell_type": "markdown",
   "id": "9ed0a8ec",
   "metadata": {},
   "source": [
    "➡️ Type your written answer for _Exercise 1 Question 4 Coefficient 1_ here (replacing this text).\n",
    "\n",
    "The coefficient for sales is .01634. This means that holding roe constant, a one unit (usd) increase in sales leads to a $.01634 (in thousands) = $16.34 in predicted salary. The **sign** on the coefficient is positive which means an increase in sales is associated with an increase in predicted salary. The **size** refers to the interpretation that one additional increase in usd for sale increases predicted salary by 16.34 dollars. For **significance** given that the pvalue of sales is 0.066973 so the coefficient is statistically significant at the 10% level. "
   ]
  },
  {
   "cell_type": "markdown",
   "id": "d39d7f15",
   "metadata": {},
   "source": [
    "➡️ Type your written answer for _Exercise 1 Question 4 Coefficient 2_ here (replacing this text).\n",
    "\n",
    "The coefficient for roe is 19.63. This means that holding sales constant, a one percent increase in average return on equity leads to a 19.63(in thousands usd) = $19,630 in predicted salary. The **sign** on the coefficient is positive which means an increase in roe is associated with an increase in predicted salary. The **size** refers to the interpretation that one percent increase in ROE increases predicted salary by 19,630 dollars. For **significance** given that the pvalue of roe is 0.077823 so the coefficient is statistically significant at the 10% level. "
   ]
  },
  {
   "cell_type": "markdown",
   "id": "0056203d",
   "metadata": {},
   "source": [
    "#### Q1-5 ####\n",
    "In absolute terms, does average ROE or sales have a larger impact on expected salary? (Use Standardized Regression - Lec 13/Sec6) "
   ]
  },
  {
   "cell_type": "code",
   "execution_count": 10,
   "id": "0f7c9859",
   "metadata": {},
   "outputs": [
    {
     "data": {
      "text/plain": [
       "\n",
       "Call:\n",
       "lm(formula = salary ~ sales + roe, data = pset4n)\n",
       "\n",
       "Residuals:\n",
       "    Min      1Q  Median      3Q     Max \n",
       "-1501.8  -492.6  -232.0   123.3 13575.2 \n",
       "\n",
       "Coefficients:\n",
       "             Estimate Standardized Std. Error t value Pr(>|t|)    \n",
       "(Intercept) 8.306e+02    0.000e+00  2.239e+02   3.710 0.000267 ***\n",
       "sales       1.634e-02    1.266e-01  8.874e-03   1.842 0.066973 .  \n",
       "roe         1.963e+01    1.219e-01  1.108e+01   1.772 0.077823 .  \n",
       "---\n",
       "Signif. codes:  0 ‘***’ 0.001 ‘**’ 0.01 ‘*’ 0.05 ‘.’ 0.1 ‘ ’ 1\n",
       "\n",
       "Residual standard error: 1359 on 206 degrees of freedom\n",
       "Multiple R-squared:  0.02917,\tAdjusted R-squared:  0.01975 \n",
       "F-statistic: 3.095 on 2 and 206 DF,  p-value: 0.04739\n"
      ]
     },
     "metadata": {},
     "output_type": "display_data"
    }
   ],
   "source": [
    "# insert your code here\n",
    "Reg1_Standardized <- lm.beta(lmsalary)\n",
    "summary(Reg1_Standardized)"
   ]
  },
  {
   "cell_type": "markdown",
   "id": "72e267ff",
   "metadata": {},
   "source": [
    "➡️ Type your written answer for _Exercise 1 Question 5_ here (replacing this text).\n",
    "\n",
    "The standardized coefficient for sales is .1266. This means that a 1 SD increase in sales increases expected/estimated salary by .1266 SD (in thousands of dollars). The standardized coefficient for roe is .1219. This means that a 1 SD increase in roe increases expected/estimated salary by .1219 SD (in thousands of dollars). So in absolute terms, sales has a larger impact on expected salary than roe."
   ]
  },
  {
   "cell_type": "markdown",
   "id": "a1a348f2",
   "metadata": {},
   "source": [
    "#### Q1-6 ####\n",
    "(a) Estimate the model of salary as a linear function of a constant, firm’s sales, average ROE, and an indicator for being in the financial sector. \n",
    "\n",
    "(b) Test the joint significance of the ROE and sales variables at the 1% significance level."
   ]
  },
  {
   "cell_type": "code",
   "execution_count": 11,
   "id": "732de783",
   "metadata": {},
   "outputs": [
    {
     "data": {
      "text/plain": [
       "\n",
       "Call:\n",
       "lm(formula = salary ~ sales + roe + finance, data = pset4n)\n",
       "\n",
       "Residuals:\n",
       "    Min      1Q  Median      3Q     Max \n",
       "-1499.8  -466.0  -244.8   106.4 13614.1 \n",
       "\n",
       "Coefficients:\n",
       "             Estimate Std. Error t value Pr(>|t|)   \n",
       "(Intercept) 7.593e+02  2.416e+02   3.143  0.00192 **\n",
       "sales       1.680e-02  8.901e-03   1.887  0.06051 . \n",
       "roe         2.125e+01  1.128e+01   1.885  0.06083 . \n",
       "finance     1.829e+02  2.313e+02   0.791  0.42994   \n",
       "---\n",
       "Signif. codes:  0 ‘***’ 0.001 ‘**’ 0.01 ‘*’ 0.05 ‘.’ 0.1 ‘ ’ 1\n",
       "\n",
       "Residual standard error: 1360 on 205 degrees of freedom\n",
       "Multiple R-squared:  0.03212,\tAdjusted R-squared:  0.01796 \n",
       "F-statistic: 2.268 on 3 and 205 DF,  p-value: 0.08174\n"
      ]
     },
     "metadata": {},
     "output_type": "display_data"
    }
   ],
   "source": [
    "# insert your code here for q1-6a\n",
    "regq6 = lm(salary~sales+roe+finance, \n",
    "           data = pset4n) #Create the linear regression\n",
    "summary(regq6)"
   ]
  },
  {
   "cell_type": "markdown",
   "id": "c23077a1-e174-46b4-aa88-f367402ab5d3",
   "metadata": {},
   "source": [
    "➡️ Type your written answer for _Exercise 1 Question 6b_ here (replacing this text).\n",
    "\n",
    "**Step 1** Null and alternative hypotheses:\n",
    "\n",
    "H0: beta_sales = beta_roe = 0 (also can be stated as Beta_percentleanrep2022 = 0 & Beta_pccars = 0) \n",
    "\n",
    "H1: beta_sales != 0 or beta_roe != 0 or both\n",
    "\n",
    "**Step 2** compute f statistic\n",
    "\n",
    "I calculated the f statistic for this joint hypothesis as follows:\n",
    "\n",
    "F = ((R2_ur - R2_r)/q)/((1-R2_ur)/(n-K_ur-1))\n",
    "\n",
    "where R2_ur is the r squared value for the unrestricted model with all variables and R2_r is the r squared value for the restricted model and q is the number of restrictions and n is the total number of samples and K_ur is the number of variables in the model to get:\n",
    "\n",
    "F = ((0.03212-0.0006127 )/2)/((1-0.03212)/209-3-1) = 3.33667215977187\n",
    "\n",
    "**Step 3** significance level and critical value\n",
    "\n",
    "Significance level is 0.01 and the numerator degrees of freedom = q = 2 and denominator degrees of freedom = 205 so to find a more accurate value I utilized the qf() function and got a more accurate value of 4.71018872511437\n",
    "\n",
    "**Step 4** reject?\n",
    "\n",
    "Since 3.33667215977187 is not greater than 4.71018872511437, we fail to reject the null that beta_sales and beta_roe are jointly equal to zero in favor of the alternative that at least one is nonzero at the 1% significance level\n",
    "\n",
    "**Step 5** interpretation\n",
    "\n",
    "There is no statistical evidence at the 1% level that, conditional on whether or not it is a finance company, roe and sales affect expected/estimated salary. In other words, sales are roe are jointly insignificant. "
   ]
  },
  {
   "cell_type": "code",
   "execution_count": 12,
   "id": "697e9e66-6045-41e6-a5b3-699e9a724c7b",
   "metadata": {},
   "outputs": [
    {
     "data": {
      "text/html": [
       "3.33667215977187"
      ],
      "text/latex": [
       "3.33667215977187"
      ],
      "text/markdown": [
       "3.33667215977187"
      ],
      "text/plain": [
       "[1] 3.336672"
      ]
     },
     "metadata": {},
     "output_type": "display_data"
    },
    {
     "data": {
      "text/html": [
       "205"
      ],
      "text/latex": [
       "205"
      ],
      "text/markdown": [
       "205"
      ],
      "text/plain": [
       "[1] 205"
      ]
     },
     "metadata": {},
     "output_type": "display_data"
    },
    {
     "data": {
      "text/html": [
       "4.71018872511437"
      ],
      "text/latex": [
       "4.71018872511437"
      ],
      "text/markdown": [
       "4.71018872511437"
      ],
      "text/plain": [
       "[1] 4.710189"
      ]
     },
     "metadata": {},
     "output_type": "display_data"
    },
    {
     "data": {
      "text/plain": [
       "\n",
       "Call:\n",
       "lm(formula = salary ~ finance, data = pset4n)\n",
       "\n",
       "Residuals:\n",
       "    Min      1Q  Median      3Q     Max \n",
       "-1040.1  -534.1  -247.9   137.9 13558.9 \n",
       "\n",
       "Coefficients:\n",
       "            Estimate Std. Error t value Pr(>|t|)    \n",
       "(Intercept)   1263.1      107.7  11.726   <2e-16 ***\n",
       "finance         81.8      229.6   0.356    0.722    \n",
       "---\n",
       "Signif. codes:  0 ‘***’ 0.001 ‘**’ 0.01 ‘*’ 0.05 ‘.’ 0.1 ‘ ’ 1\n",
       "\n",
       "Residual standard error: 1375 on 207 degrees of freedom\n",
       "Multiple R-squared:  0.0006127,\tAdjusted R-squared:  -0.004215 \n",
       "F-statistic: 0.1269 on 1 and 207 DF,  p-value: 0.722\n"
      ]
     },
     "metadata": {},
     "output_type": "display_data"
    }
   ],
   "source": [
    "# code utilited to answer question 1-6b\n",
    "R2_ur = 0.03212\n",
    "R2_r = 0.0006127\n",
    "q = 2\n",
    "n = 209\n",
    "K_ur = 3\n",
    "((R2_ur - R2_r)/q)/((1-R2_ur)/(n-K_ur-1))\n",
    "n-K_ur-1\n",
    "qf(p=.01, df1=q, df2=n-K_ur-1, lower.tail=FALSE)\n",
    "\n",
    "regq6 = lm(salary~finance, data = pset4n) #Create the linear regression\n",
    "summary(regq6)"
   ]
  },
  {
   "cell_type": "markdown",
   "id": "7b62f55b",
   "metadata": {},
   "source": [
    "#### Q1-7 ####\n",
    "Looking at the coefficients on the ROE across two models in Q4 and Q6, what do you conclude in terms of the type of firm being in the finance sector having caused bias on the impact of ROE on salary if not considered?"
   ]
  },
  {
   "cell_type": "markdown",
   "id": "5e8110b1",
   "metadata": {},
   "source": [
    "➡️ Type your written answer for _Exercise 1 Question 7_ here (replacing this text).\n",
    "\n",
    "w/o finance: 19.63\n",
    "\n",
    "w/ finance: 21.25\n",
    "\n",
    "including finance increased coefficient\n",
    "\n",
    "The coefficient estimate for roe without finance is 19.63 whereas with finance it was 21.25 which means there is a bias present and it moves towards the negative direction when we omit the finance variable. We have a downward OVM. I conclude that the type of firm being in the finance sector has a different effect on reo compared to nonfinance firms. "
   ]
  },
  {
   "cell_type": "markdown",
   "id": "72ef7f99",
   "metadata": {},
   "source": [
    "#### Q1-8 ####\n",
    "(a) Using only data on nonfinance sector observations, specify a model to predict the average salary of an executive whose firm has an ROE of 10% with 4,000 (meaning 4 billion USD) in sales.\n",
    "\n",
    "(b) Construct a 95% confidence interval for the predicted average salary for an executive with those characteristics."
   ]
  },
  {
   "cell_type": "code",
   "execution_count": 13,
   "id": "e537e01b-d61b-4944-bb92-d55bd01f9c2f",
   "metadata": {},
   "outputs": [
    {
     "data": {
      "text/plain": [
       "\n",
       "Call:\n",
       "lm(formula = salary ~ roe + sales, data = nonfinancepset)\n",
       "\n",
       "Residuals:\n",
       "    Min      1Q  Median      3Q     Max \n",
       "-1369.1  -457.2  -256.1    87.1 13600.0 \n",
       "\n",
       "Coefficients:\n",
       "             Estimate Std. Error t value Pr(>|t|)    \n",
       "(Intercept) 9.996e+02  1.557e+02   6.422 1.46e-09 ***\n",
       "roe         2.670e+01  1.263e+01   2.115    0.036 *  \n",
       "sales       1.553e-02  9.678e-03   1.605    0.111    \n",
       "---\n",
       "Signif. codes:  0 ‘***’ 0.001 ‘**’ 0.01 ‘*’ 0.05 ‘.’ 0.1 ‘ ’ 1\n",
       "\n",
       "Residual standard error: 1441 on 160 degrees of freedom\n",
       "Multiple R-squared:  0.04023,\tAdjusted R-squared:  0.02823 \n",
       "F-statistic: 3.353 on 2 and 160 DF,  p-value: 0.03745\n"
      ]
     },
     "metadata": {},
     "output_type": "display_data"
    },
    {
     "name": "stdout",
     "output_type": "stream",
     "text": [
      "[1] \"------------------------------------------------------\"\n",
      "[1] \"95% confidence interval\"\n"
     ]
    },
    {
     "data": {
      "text/html": [
       "<style>\n",
       ".list-inline {list-style: none; margin:0; padding: 0}\n",
       ".list-inline>li {display: inline-block}\n",
       ".list-inline>li:not(:last-child)::after {content: \"\\00b7\"; padding: 0 .5ex}\n",
       "</style>\n",
       "<ol class=list-inline><li>692107.827107876</li><li>1307092.17289212</li></ol>\n"
      ],
      "text/latex": [
       "\\begin{enumerate*}\n",
       "\\item 692107.827107876\n",
       "\\item 1307092.17289212\n",
       "\\end{enumerate*}\n"
      ],
      "text/markdown": [
       "1. 692107.827107876\n",
       "2. 1307092.17289212\n",
       "\n",
       "\n"
      ],
      "text/plain": [
       "[1]  692107.8 1307092.2"
      ]
     },
     "metadata": {},
     "output_type": "display_data"
    }
   ],
   "source": [
    "# insert your code here\n",
    "nonfinancepset <- filter(pset4n, finance==0)\n",
    "nonfinancepset$roe<-nonfinancepset$roe-10\n",
    "nonfinancepset$sales<-nonfinancepset$sales-4000\n",
    "reg8 <- lm(salary~roe+sales, nonfinancepset)\n",
    "summary(reg8)\n",
    "print(\"------------------------------------------------------\")\n",
    "print(\"95% confidence interval\")\n",
    "cval <- qt(.975, 160, lower.tail=TRUE)\n",
    "c(999.6-(cval*155.7), 999.6+(cval*155.7))*1000"
   ]
  },
  {
   "cell_type": "markdown",
   "id": "c8d2409d",
   "metadata": {},
   "source": [
    "➡️ Type your written answer for _Exercise 1 Question 8_ here (replacing this text).\n",
    "\n",
    "The average salary of an executive whose firm has an ROE of 10% with 4 billion USD in sales can be estimated as the intercept of the above regression. So the average salary is estimated to be 999.6 usd in thousands = 999,600 dollars. \n",
    "\n",
    "We predict the average salary  to be between 692,107.827107876 and 1,307,092.17289212 "
   ]
  },
  {
   "cell_type": "markdown",
   "id": "74d9d8b0",
   "metadata": {},
   "source": [
    "#### Q1-9 ####\n",
    "What would be the 95% confidence interval for the predicted salary (not the average predicted) with those characteristics in 8.a. above? Are you surprised that the intervals differ between questions 8.b. and 9? (Hint: Lec 14)"
   ]
  },
  {
   "cell_type": "code",
   "execution_count": 14,
   "id": "7e289cab",
   "metadata": {},
   "outputs": [
    {
     "data": {
      "text/html": [
       "1328720"
      ],
      "text/latex": [
       "1328720"
      ],
      "text/markdown": [
       "1328720"
      ],
      "text/plain": [
       "[1] 1328720"
      ]
     },
     "metadata": {},
     "output_type": "display_data"
    },
    {
     "data": {
      "text/html": [
       "<style>\n",
       ".list-inline {list-style: none; margin:0; padding: 0}\n",
       ".list-inline>li {display: inline-block}\n",
       ".list-inline>li:not(:last-child)::after {content: \"\\00b7\"; padding: 0 .5ex}\n",
       "</style>\n",
       "<ol class=list-inline><li>1328493.87866557</li><li>1328946.12133443</li></ol>\n"
      ],
      "text/latex": [
       "\\begin{enumerate*}\n",
       "\\item 1328493.87866557\n",
       "\\item 1328946.12133443\n",
       "\\end{enumerate*}\n"
      ],
      "text/markdown": [
       "1. 1328493.87866557\n",
       "2. 1328946.12133443\n",
       "\n",
       "\n"
      ],
      "text/plain": [
       "[1] 1328494 1328946"
      ]
     },
     "metadata": {},
     "output_type": "display_data"
    }
   ],
   "source": [
    "# insert your code here\n",
    "avgsal <- (999.6 + (26.7*10)+(.01553*4000))*1000\n",
    "avgsal\n",
    "cval <- qt(0.975, nrow(nonfinancepset)-1)\n",
    "sd8 <- sd(nonfinancepset$salary)\n",
    "c(avgsal - cval *(sd8/sqrt(nrow(nonfinancepset))), \n",
    "  avgsal + cval * (sd8/sqrt(nrow(nonfinancepset))))"
   ]
  },
  {
   "cell_type": "markdown",
   "id": "04404b80",
   "metadata": {},
   "source": [
    "➡️ Type your written answer for _Exercise 1 Question 9_ here (replacing this text).\n",
    "\n",
    "The confidence interval states that with 95% probability this confidence interval has the true predicted salary for a ceo of a firm with roe = 10% and sales of 4 billion usd. So specifically in this case we are 95% confident that our interval covers the true salary for a ceo of a firm with roe = 10% and sales of 4 billion usd between the values 1,328,493.87866557 dollars and upper end of 1,328,946.12133443 dollars. I am not surprised that the intervals differ because the confidence intervals are for different salary values, the above was for an average house with those characters and this CI is for a particular house of these characteristics."
   ]
  },
  {
   "cell_type": "markdown",
   "id": "c5e605c8",
   "metadata": {},
   "source": [
    "#### Q1-10 ####\n",
    "We are selecting between model (1A.) and model (1B.) below. Estimate both models, creating any variables you need.  Based on your estimated output using linear regression analysis, which model would you choose to use in labor market analysis? \n",
    "\n",
    "$ (Model\\;1A) \\;\\; wage_i = \\beta_0 + \\beta_1 ROE_i + \\beta_2 sales_i + \\beta_3 finance_i + u_i $\n",
    "\n",
    "$ (Model\\;1B) \\;\\; wage_i = \\gamma_0 + \\gamma_1 ROE_i + \\gamma_2 log(sales_i) + \\gamma_3 finance_i + v_i $"
   ]
  },
  {
   "cell_type": "code",
   "execution_count": 15,
   "id": "d73b24c2",
   "metadata": {},
   "outputs": [
    {
     "data": {
      "text/plain": [
       "\n",
       "Call:\n",
       "lm(formula = salary ~ roe + sales + finance, data = pset4n)\n",
       "\n",
       "Residuals:\n",
       "    Min      1Q  Median      3Q     Max \n",
       "-1499.8  -466.0  -244.8   106.4 13614.1 \n",
       "\n",
       "Coefficients:\n",
       "             Estimate Std. Error t value Pr(>|t|)   \n",
       "(Intercept) 7.593e+02  2.416e+02   3.143  0.00192 **\n",
       "roe         2.125e+01  1.128e+01   1.885  0.06083 . \n",
       "sales       1.680e-02  8.901e-03   1.887  0.06051 . \n",
       "finance     1.829e+02  2.313e+02   0.791  0.42994   \n",
       "---\n",
       "Signif. codes:  0 ‘***’ 0.001 ‘**’ 0.01 ‘*’ 0.05 ‘.’ 0.1 ‘ ’ 1\n",
       "\n",
       "Residual standard error: 1360 on 205 degrees of freedom\n",
       "Multiple R-squared:  0.03212,\tAdjusted R-squared:  0.01796 \n",
       "F-statistic: 2.268 on 3 and 205 DF,  p-value: 0.08174\n"
      ]
     },
     "metadata": {},
     "output_type": "display_data"
    },
    {
     "data": {
      "text/plain": [
       "\n",
       "Call:\n",
       "lm(formula = salary ~ roe + lsales + finance, data = pset1b)\n",
       "\n",
       "Residuals:\n",
       "    Min      1Q  Median      3Q     Max \n",
       "-1137.0  -423.4  -214.7    52.5 13694.6 \n",
       "\n",
       "Coefficients:\n",
       "            Estimate Std. Error t value Pr(>|t|)   \n",
       "(Intercept) -1526.18     820.20  -1.861  0.06421 . \n",
       "roe            23.90      11.17   2.139  0.03360 * \n",
       "lsales        285.25      92.48   3.084  0.00232 **\n",
       "finance       142.15     227.57   0.625  0.53292   \n",
       "---\n",
       "Signif. codes:  0 ‘***’ 0.001 ‘**’ 0.01 ‘*’ 0.05 ‘.’ 0.1 ‘ ’ 1\n",
       "\n",
       "Residual standard error: 1341 on 205 degrees of freedom\n",
       "Multiple R-squared:  0.05897,\tAdjusted R-squared:  0.0452 \n",
       "F-statistic: 4.282 on 3 and 205 DF,  p-value: 0.005878\n"
      ]
     },
     "metadata": {},
     "output_type": "display_data"
    }
   ],
   "source": [
    "# insert your code here\n",
    "pset1b <- mutate(pset4n, lsales = log(sales))\n",
    "model1a <- lm(salary ~ roe+sales+finance, pset4n)\n",
    "model1b <- lm(salary~roe+lsales+finance, pset1b)\n",
    "summary(model1a)\n",
    "summary(model1b)"
   ]
  },
  {
   "cell_type": "markdown",
   "id": "4020e80f",
   "metadata": {},
   "source": [
    "➡️ Type your written answer for _Exercise 1 Question 10_ here (replacing this text).\n",
    "\n",
    "I would choose to use model 1b because the coefficients for log of sales and finance variables and the R squared value is higher for 1b compared to 1a which means 1b does a better job of explaining the variance in salary. I would want higher accuracy in a labor market analysis and so 1b seems to be the better choice. "
   ]
  },
  {
   "cell_type": "markdown",
   "id": "2cee4015",
   "metadata": {},
   "source": [
    "#### Q1-11 ####\n",
    "If an executive’s tenure is positively correlated with salary and also positively correlated with the sales of the company, are we overestimating the effect of sales on salary in model 1A? please explain briefly"
   ]
  },
  {
   "cell_type": "markdown",
   "id": "095ebc51",
   "metadata": {},
   "source": [
    "➡️ Type your written answer for _Exercise 1 Question 11_ here (replacing this text).\n",
    "\n",
    "cor(sal, ten) >0 \n",
    "\n",
    "cor(sales,ten) >0 \n",
    "\n",
    "Sign(bias) = Sign(coefficient for tenure) * sign(cor(sales,tenure))\n",
    "\n",
    "sign(bias) is positive since the coefficient for tenure is positive I am assuming since having a tenure would mean an increased salary compared to a temporary position and the correlation between tenure and sales is positive as given which means we would have a positive omitted variable bias when tenure is excluded, the sales coefficient is greater/overestimted and so we do indeed overestimate the effect of sales on salary because including tenure would decrease the sales coefficient value."
   ]
  },
  {
   "cell_type": "markdown",
   "id": "51cfbb85",
   "metadata": {},
   "source": [
    "### Ex2 ###\n",
    "\n",
    "We want to select the best model to use for future labor market analysis. We are selecting between model (2C) and model (2D) below.\n",
    "\n",
    "$ (Model\\;2C) \\;\\; salary_i = \\theta_0 + \\theta_1 ROE_i + \\theta_2 sales_i + \\theta_3 finance_i + u_i $\n",
    "\n",
    "$ (Model\\;2D) \\;\\; log(salary_i) = \\eta_0 + \\eta_1 ROE_i + \\eta_2 sales_i + \\eta_3 finance_i + v_i $"
   ]
  },
  {
   "cell_type": "markdown",
   "id": "dac862af",
   "metadata": {},
   "source": [
    "#### Q2-1 ####\n",
    "Estimate both models in exercise 2, creating any variables you need.  Which model would you choose to use henceforth?  (Lec 15)"
   ]
  },
  {
   "cell_type": "code",
   "execution_count": 16,
   "id": "78374f92",
   "metadata": {},
   "outputs": [
    {
     "data": {
      "text/plain": [
       "\n",
       "Call:\n",
       "lm(formula = salary ~ roe + sales + finance, data = pset4n)\n",
       "\n",
       "Residuals:\n",
       "    Min      1Q  Median      3Q     Max \n",
       "-1499.8  -466.0  -244.8   106.4 13614.1 \n",
       "\n",
       "Coefficients:\n",
       "             Estimate Std. Error t value Pr(>|t|)   \n",
       "(Intercept) 7.593e+02  2.416e+02   3.143  0.00192 **\n",
       "roe         2.125e+01  1.128e+01   1.885  0.06083 . \n",
       "sales       1.680e-02  8.901e-03   1.887  0.06051 . \n",
       "finance     1.829e+02  2.313e+02   0.791  0.42994   \n",
       "---\n",
       "Signif. codes:  0 ‘***’ 0.001 ‘**’ 0.01 ‘*’ 0.05 ‘.’ 0.1 ‘ ’ 1\n",
       "\n",
       "Residual standard error: 1360 on 205 degrees of freedom\n",
       "Multiple R-squared:  0.03212,\tAdjusted R-squared:  0.01796 \n",
       "F-statistic: 2.268 on 3 and 205 DF,  p-value: 0.08174\n"
      ]
     },
     "metadata": {},
     "output_type": "display_data"
    },
    {
     "data": {
      "text/plain": [
       "\n",
       "Call:\n",
       "lm(formula = lsalary ~ roe + sales + finance, data = pset4n)\n",
       "\n",
       "Residuals:\n",
       "    Min      1Q  Median      3Q     Max \n",
       "-1.4784 -0.2713 -0.0323  0.2464  2.7420 \n",
       "\n",
       "Coefficients:\n",
       "             Estimate Std. Error t value Pr(>|t|)    \n",
       "(Intercept) 6.499e+00  9.316e-02  69.762  < 2e-16 ***\n",
       "roe         1.691e-02  4.348e-03   3.890 0.000135 ***\n",
       "sales       1.620e-05  3.432e-06   4.720 4.36e-06 ***\n",
       "finance     2.219e-01  8.917e-02   2.488 0.013633 *  \n",
       "---\n",
       "Signif. codes:  0 ‘***’ 0.001 ‘**’ 0.01 ‘*’ 0.05 ‘.’ 0.1 ‘ ’ 1\n",
       "\n",
       "Residual standard error: 0.5244 on 205 degrees of freedom\n",
       "Multiple R-squared:  0.155,\tAdjusted R-squared:  0.1426 \n",
       "F-statistic: 12.54 on 3 and 205 DF,  p-value: 1.472e-07\n"
      ]
     },
     "metadata": {},
     "output_type": "display_data"
    },
    {
     "data": {
      "text/html": [
       "<style>\n",
       ".dl-inline {width: auto; margin:0; padding: 0}\n",
       ".dl-inline>dt, .dl-inline>dd {float: none; width: auto; display: inline-block}\n",
       ".dl-inline>dt::after {content: \":\\0020\"; padding-right: .5ex}\n",
       ".dl-inline>dt:not(:first-of-type) {padding-left: .5ex}\n",
       "</style><dl class=dl-inline><dt>(Intercept)</dt><dd>6.49871818586195</dd><dt>roe</dt><dd>0.0169140227122468</dd><dt>sales</dt><dd>1.62016031823132e-05</dd><dt>finance</dt><dd>0.22189098311248</dd></dl>\n"
      ],
      "text/latex": [
       "\\begin{description*}\n",
       "\\item[(Intercept)] 6.49871818586195\n",
       "\\item[roe] 0.0169140227122468\n",
       "\\item[sales] 1.62016031823132e-05\n",
       "\\item[finance] 0.22189098311248\n",
       "\\end{description*}\n"
      ],
      "text/markdown": [
       "(Intercept)\n",
       ":   6.49871818586195roe\n",
       ":   0.0169140227122468sales\n",
       ":   1.62016031823132e-05finance\n",
       ":   0.22189098311248\n",
       "\n"
      ],
      "text/plain": [
       " (Intercept)          roe        sales      finance \n",
       "6.4987181859 0.0169140227 0.0000162016 0.2218909831 "
      ]
     },
     "metadata": {},
     "output_type": "display_data"
    }
   ],
   "source": [
    "# insert your code here\n",
    "reg2c <- lm(salary~roe+sales+finance, pset4n)\n",
    "reg2d <- lm(lsalary~roe+sales+finance, pset4n)\n",
    "summary(reg2c)\n",
    "summary(reg2d)\n",
    "reg2d$coefficients"
   ]
  },
  {
   "cell_type": "markdown",
   "id": "c4da3022",
   "metadata": {},
   "source": [
    "➡️ Type your written answer for _Exercise 2 Question 1_ here (replacing this text).\n",
    "\n",
    "I would choose to use model 2d given that all coefficients are more strongly significant. The r squared is also much higher for model 2d compared to 2c which means it bettwe explains the variance. "
   ]
  },
  {
   "cell_type": "markdown",
   "id": "897f33a4",
   "metadata": {},
   "source": [
    "#### Q2-2 ####\n",
    "Using the model (2D) from this Exercise 2, please predict the average salary for an executive in a firm with ROE = 12.6% and sales = 4500 (4.5 Billion USD) in a finance firm."
   ]
  },
  {
   "cell_type": "code",
   "execution_count": 17,
   "id": "da524e1a",
   "metadata": {},
   "outputs": [
    {
     "data": {
      "text/html": [
       "1104188.54967106"
      ],
      "text/latex": [
       "1104188.54967106"
      ],
      "text/markdown": [
       "1104188.54967106"
      ],
      "text/plain": [
       "[1] 1104189"
      ]
     },
     "metadata": {},
     "output_type": "display_data"
    }
   ],
   "source": [
    "# insert your code here\n",
    "#pset22 <- filter(pset4n)\n",
    "#pset22$roe<-pset22$roe-12.6\n",
    "#pset22$sales<-pset22$sales-4500\n",
    "#reg2d2 <- lm(lsalary~roe+sales+finance, pset22)\n",
    "#exp(reg2d2$coefficients[1])*1000\n",
    "\n",
    "\n",
    "exp(6.499e+00+(1.691e-02*12.6)+(1.620e-05*4500)+2.219e-01)*1000"
   ]
  },
  {
   "cell_type": "markdown",
   "id": "52bfd06c",
   "metadata": {},
   "source": [
    "### Ex3: Finance or not Finance ###"
   ]
  },
  {
   "cell_type": "markdown",
   "id": "c693c857",
   "metadata": {},
   "source": [
    "#### Q3-1 ####\n",
    "Estimate model 2C separately for executives in the finance sector and for those not in the finance sector. Formally test at the 5% significance level whether the regressions should be estimated separately or whether we can pool the data like we have been doing so far. (Hint: Lec 17) "
   ]
  },
  {
   "cell_type": "code",
   "execution_count": 18,
   "id": "a12585e9",
   "metadata": {},
   "outputs": [
    {
     "name": "stdout",
     "output_type": "stream",
     "text": [
      "[1] \"nonfinance\"\n"
     ]
    },
    {
     "data": {
      "text/html": [
       "332310941.287004"
      ],
      "text/latex": [
       "332310941.287004"
      ],
      "text/markdown": [
       "332310941.287004"
      ],
      "text/plain": [
       "[1] 332310941"
      ]
     },
     "metadata": {},
     "output_type": "display_data"
    },
    {
     "name": "stdout",
     "output_type": "stream",
     "text": [
      "[1] \"finance\"\n"
     ]
    },
    {
     "data": {
      "text/html": [
       "42736751.5375795"
      ],
      "text/latex": [
       "42736751.5375795"
      ],
      "text/markdown": [
       "42736751.5375795"
      ],
      "text/plain": [
       "[1] 42736752"
      ]
     },
     "metadata": {},
     "output_type": "display_data"
    },
    {
     "name": "stdout",
     "output_type": "stream",
     "text": [
      "[1] \"pooled/restricted\"\n"
     ]
    },
    {
     "data": {
      "text/html": [
       "380305470.224702"
      ],
      "text/latex": [
       "380305470.224702"
      ],
      "text/markdown": [
       "380305470.224702"
      ],
      "text/plain": [
       "[1] 380305470"
      ]
     },
     "metadata": {},
     "output_type": "display_data"
    },
    {
     "data": {
      "text/html": [
       "209"
      ],
      "text/latex": [
       "209"
      ],
      "text/markdown": [
       "209"
      ],
      "text/plain": [
       "[1] 209"
      ]
     },
     "metadata": {},
     "output_type": "display_data"
    },
    {
     "data": {
      "text/html": [
       "0.704452578727177"
      ],
      "text/latex": [
       "0.704452578727177"
      ],
      "text/markdown": [
       "0.704452578727177"
      ],
      "text/plain": [
       "[1] 0.7044526"
      ]
     },
     "metadata": {},
     "output_type": "display_data"
    },
    {
     "data": {
      "text/html": [
       "2.41657417834072"
      ],
      "text/latex": [
       "2.41657417834072"
      ],
      "text/markdown": [
       "2.41657417834072"
      ],
      "text/plain": [
       "[1] 2.416574"
      ]
     },
     "metadata": {},
     "output_type": "display_data"
    }
   ],
   "source": [
    "# insert your code here\n",
    "\n",
    "nonfinancepset <- filter(pset4n, finance==0)\n",
    "financepset <- filter(pset4n, finance==1)\n",
    "\n",
    "reg3non <- lm(salary~roe+sales, nonfinancepset)\n",
    "reg3fin <- lm(salary~roe+sales, financepset)\n",
    "restricted <- lm(salary~roe+sales, pset4n)\n",
    "\n",
    "print(\"nonfinance\")\n",
    "sum(resid(reg3non)^2)\n",
    "print('finance')\n",
    "sum(resid(reg3fin)^2)\n",
    "print('pooled/restricted')\n",
    "sum(resid(restricted)^2)\n",
    "nrow(pset4n)\n",
    "num<- ((380305470.224702 - (332310941.287004+42736751.5375795))/4)\n",
    "dem<- ((332310941.287004+42736751.5375795)/(209-2*(3+1)))\n",
    "num/dem\n",
    "qf(p=.05, df1=4, df2=209-2*(3+1), lower.tail=FALSE)"
   ]
  },
  {
   "cell_type": "markdown",
   "id": "d02dbc0e",
   "metadata": {},
   "source": [
    "➡️ Type your written answer for _Exercise 3 Question 1_ here (replacing this text).\n",
    "\n",
    "**Step 1** Null and alternative hypotheses:\n",
    "\n",
    "Null/H0: The regressions for finance and nonfinance firms can be pooled\n",
    "\n",
    "Alternative/H1: The finance firm and nonfinnace firm regressions should be run separate\n",
    "\n",
    "\n",
    "**Step 2** compute test statistic (**chow** statistic/f statistic)\n",
    "\n",
    "numerator = (SSR_p - (SSR_f + SSR_n))/(k+1) = (380305470.224702 - (332310941.287004+42736751.5375795))/4\n",
    "\n",
    "denominator = (SSR_f + SSR_n)/(n-2(k+1)) = (332310941.287004+42736751.5375795)/(209-2(3+1))\n",
    "\n",
    "F = numerator/denominator = ((380305470.224702 - (332310941.287004+42736751.5375795))/4)/((332310941.287004+42736751.5375795)/(209-2(3+1))) \n",
    "\n",
    "F = **0.704452578727177**\n",
    "\n",
    "where SSR_p is is the SSR for the restricted model, SSR_f is the SSR for the finance firm regression, SSR_n is the SSR for the nonfinance firm regression, n is the total number of samples and K_ur is the number of variables in the model\n",
    "\n",
    "**Step 3** significance level and critical value\n",
    "\n",
    "Our significance level alpha is 5% or 0.05\n",
    "\n",
    "The critical value for an f test with df (4,201) is 2.41657417834072\n",
    "\n",
    "**Step 4** reject?\n",
    "\n",
    "Given that our F statistic 0.704452578727177 is less than the critical value 2.41657417834072 we fail to reject the null\n",
    "\n",
    "**Step 5** interpretation\n",
    "\n",
    "There is insignificant evidence at the 5% level that finance firm and nonfinnace firm regressions should be run separate. We fail to reject the null that regressions for finance and nonfinace firms can be pooled. "
   ]
  },
  {
   "cell_type": "markdown",
   "id": "b2abd9a0",
   "metadata": {},
   "source": [
    "#### Q3-2 ####\n",
    "I would like to know whether the effect of the ROE on salary differs depending on whether the company is in the finance sector.\n",
    "\n",
    "$ (Model\\;1A) \\;\\; wage_i = \\beta_0 + \\beta_1 ROE_i + \\beta_2 sales_i + \\beta_3 finance_i + u_i $\n",
    "\n",
    "Estimate a model, by adjusting Model 1A, that enables you to test this and please interpret your findings. Compare the p value for the estimated coefficient of interest at the 5 percent significance level to conclude whether you reject the null of no heterogeneity in the effect of ROE on salary for finance and non-finance firms, against a two-sided alternative, holding all else equal. (Hint: Generate the interaction you need and add it to the regression.) "
   ]
  },
  {
   "cell_type": "code",
   "execution_count": 19,
   "id": "5d1b0517",
   "metadata": {},
   "outputs": [
    {
     "data": {
      "text/plain": [
       "\n",
       "Call:\n",
       "lm(formula = salary ~ roe + sales + finance + (finance * roe), \n",
       "    data = pset4n)\n",
       "\n",
       "Residuals:\n",
       "    Min      1Q  Median      3Q     Max \n",
       "-1444.7  -453.0  -233.6    79.3 13604.1 \n",
       "\n",
       "Coefficients:\n",
       "              Estimate Std. Error t value Pr(>|t|)   \n",
       "(Intercept) 663.402751 250.064607   2.653  0.00861 **\n",
       "roe          26.759237  11.883316   2.252  0.02540 * \n",
       "sales         0.016367   0.008883   1.843  0.06685 . \n",
       "finance     952.137967 583.945132   1.631  0.10453   \n",
       "roe:finance -52.322578  36.488693  -1.434  0.15312   \n",
       "---\n",
       "Signif. codes:  0 ‘***’ 0.001 ‘**’ 0.01 ‘*’ 0.05 ‘.’ 0.1 ‘ ’ 1\n",
       "\n",
       "Residual standard error: 1356 on 204 degrees of freedom\n",
       "Multiple R-squared:  0.04178,\tAdjusted R-squared:  0.02299 \n",
       "F-statistic: 2.224 on 4 and 204 DF,  p-value: 0.06768\n"
      ]
     },
     "metadata": {},
     "output_type": "display_data"
    },
    {
     "data": {
      "text/html": [
       "-1.43393949462646"
      ],
      "text/latex": [
       "-1.43393949462646"
      ],
      "text/markdown": [
       "-1.43393949462646"
      ],
      "text/plain": [
       "[1] -1.433939"
      ]
     },
     "metadata": {},
     "output_type": "display_data"
    },
    {
     "data": {
      "text/html": [
       "1.97166088949376"
      ],
      "text/latex": [
       "1.97166088949376"
      ],
      "text/markdown": [
       "1.97166088949376"
      ],
      "text/plain": [
       "[1] 1.971661"
      ]
     },
     "metadata": {},
     "output_type": "display_data"
    }
   ],
   "source": [
    "# insert your code here\n",
    "\n",
    "model1a <- lm(salary ~ roe + sales + finance \n",
    "              + (finance*roe), pset4n)\n",
    "summary(model1a)\n",
    "(-52.322578-0)/36.488693\n",
    "qt(0.975, 209-5)"
   ]
  },
  {
   "cell_type": "markdown",
   "id": "eff286b7",
   "metadata": {},
   "source": [
    "➡️ Type your written answer for _Exercise 3 Question 2_ here (replacing this text).\n",
    "\n",
    "[It is possible to evaluate directly and see that the pvalue coefficient for beta_5 from the regression output is not significant at the 5% significance level but I am outlining my steps below]\n",
    "\n",
    "**Step 1** Null and alternative hypotheses:\n",
    "\n",
    "Null/H0: The coefficient for beta_5 (roe*finance) is = 0\n",
    "\n",
    "Alternative/H1: The coefficient for beta_5 (roe*finance) is != 0\n",
    "\n",
    "\n",
    "**Step 2** compute test statistic \n",
    "\n",
    "t = beta_5_est - beta_5 / se(beta_5_est) = (-52.322578-0)/36.488693 = -1.43393949462646\n",
    "\n",
    "where SSR_p is is the SSR for the restricted model, SSR_f is the SSR for the finance firm regression, SSR_n is the SSR for the nonfinance firm regression, n is the total number of samples and K_ur is the number of variables in the model\n",
    "\n",
    "**Step 3** significance level and critical value\n",
    "\n",
    "Our significance level alpha is 5% or 0.05\n",
    "\n",
    "The critical value for an t test that is two tailed is 1.97166088949376\n",
    "\n",
    "**Step 4** reject?\n",
    "\n",
    "Given that our |-1.43393949462646| <  1.97166088949376 we fail to reject the null that there is no heterogeneity in the effect of ROE on salary for finance and non-finance firms\n",
    "\n",
    "**Step 5** interpretation\n",
    "\n",
    "We fail reject the null hypothesis. There is statistical evidence at the 5% level that there is no heterogeneity in the effect of ROE on salary for finance and non-finance firms"
   ]
  },
  {
   "cell_type": "code",
   "execution_count": 20,
   "id": "5f26af6b-fe55-47ba-a81c-39a6742ccb1e",
   "metadata": {},
   "outputs": [
    {
     "data": {
      "text/html": [
       "2"
      ],
      "text/latex": [
       "2"
      ],
      "text/markdown": [
       "2"
      ],
      "text/plain": [
       "[1] 2"
      ]
     },
     "metadata": {},
     "output_type": "display_data"
    }
   ],
   "source": [
    "1+1"
   ]
  },
  {
   "cell_type": "code",
   "execution_count": null,
   "id": "15c0a017-0ebd-45d9-94b8-2b6d5dcfa5e5",
   "metadata": {},
   "outputs": [],
   "source": []
  },
  {
   "cell_type": "code",
   "execution_count": 21,
   "id": "d040fec0-c500-4fe2-a562-11519e950099",
   "metadata": {},
   "outputs": [
    {
     "data": {
      "text/html": [
       "1.64630889908743"
      ],
      "text/latex": [
       "1.64630889908743"
      ],
      "text/markdown": [
       "1.64630889908743"
      ],
      "text/plain": [
       "[1] 1.646309"
      ]
     },
     "metadata": {},
     "output_type": "display_data"
    }
   ],
   "source": [
    "qt(.95,df=1048)"
   ]
  },
  {
   "cell_type": "markdown",
   "id": "94f587df-97d4-4b4b-9ce6-e5af868e55cc",
   "metadata": {},
   "source": [
    "The estimated intercept of 5.180 means that when age is 0, years married are 0, satisfaction is 0 and income is 0 the estimated number of extramarital affairs an individual had in the past year is 5.180. In research context, the intercept on its own is unclear but provides a proxy to relate to the coefficients of the other variables and see how they affect the dependent variable, number of extramarital affairs. \n",
    "\n",
    "So the correlation between age and m_satisfaction must be negative. This also makes sense since newly wed individuals are younger and more happier and in love with their partners and with time differences can come up which cause them to drift apart, be unhappy and unsatisfied in their respective marriages. \n",
    "\n",
    "\n",
    "I believe that the sum of squared residuals for the restricted model would be greater or equal to compared to the unrestricted model. This is because the sum of squared residuals measures the difference between the actual and predicted y, so a measure of variability in our predictions. Given that the restricted model has less variables overall that can help explain the variation and less controls, I would expect the SSR to be higher. However, I believe there are chances of it being equal given it is not necessarily always the case that adding additional variables would actually be relevant in explaining the variation of the dependent variable. \n",
    "\n",
    "Given that the F-Test statistic \n",
    "\n",
    "\n",
    "Sign: The coefficient for total hours the individual worked in a week is negative which means that as hours worked increases, the probabilty of being married decreases. \n",
    "\n",
    "Size: More specifically, for every one additional hour an individual worked in a week, the probability of being married decreases by by -0.002429, or .2429% holding all other variables (age, educ, male, south) constant. This makes sense given that individuals who work double shifts/significantly more hours probably don't have time to socialize and find a partner, or raise a family. \n",
    "\n",
    "Significance: the coefficient is significant at the 1%, 5%, and 10% levels. \n",
    "\n",
    "Why robust std errors: The researcher uses heteroskedasticity-robust standard errors given our dependent variable is binary and output of a probability that only makes sense bounded between 0-1 and if robust standard errors are not used we can get values below 0 or above 1. \n",
    "\n",
    "The researcher should use the average marginal effect coefficient because the default coefficients are the log odds, not the probability interpreattion we are looking for. Focusing on the marginal effect coefficient:\n",
    "Sign: The sign of the coefficient is negative which means a increase in the number of years in leads to a decrease in the probability of being married. This makes sense since individuals who are in school for a longer period of time may be too busy to consider getting married or starting families, or may have a demanding career they are pursuing. \n",
    "Size: Specifically, for every one additional year of education, the estimated probabilty of being married decreases by -0.0057 holding all other variables constant. \n",
    "Significance:The pvalue is 0.2888 which means this coefficient is not significant at any standard significance levels. \n",
    "\n",
    "\n",
    "The Likelihood Ratio Test (or Chi-Squared test) is an F-test for thelogit model and what is needed to answer this question. Their unrestricted model is the model 2 given above. They would run an additional regression that should look as follows (this is their restricted model):\n",
    "glm(marr~male+totwrk_hr, family=binomial(link=\"logit\"),data=data)\n",
    "The dependent variable for both regressions is the indicator variable marr (=1 if married, =0 otherwise). The independent variables in the unrestricted model are age, education, male, south, totwrk_hr and in the restricted model it is just male and totwrk_hr. \n",
    "\n",
    "\n",
    "The logit model is bounded between 0 and 1 so I believe the blue circles is the logit model as it does not cross a predicted probability of 1, and red triangles is the linear probability model. The blue circles also seem to follow a slighlty more log like curved graph whereas the red triangles seem slightly more linear. \n",
    "\n",
    "I would choose to use the regression discontinuity design model given we have a clear threshold of test score = 50 and we can measure similar individuals just above and below the threshold also since it seems regardless of the treatment, the two groups follow parallel trends and might be continuous if the treatment was not there.\n",
    "\n",
    "Interpreting β0: This parameter reflects the intercept for the control group - group that did not pass the exit exam score the first time for scores of the running variable at the threshold of exit exam score 50. \n",
    "\n",
    "Interpreting β1: This parameter reflects the intercept for difference in intercept for the treatment group - passed exit exam for scores of the running variable at the threshold of exit exam score 50. This is our local average treatment effect (LATE)\n",
    "\n",
    "\n",
    "For those right at the threshold where RunningVar = c, the β2 and β3 terms will be zero.\n",
    "Then β0 gives us the intercept for the control group at the cutoff (i.e. those just to the left), while\n",
    "β0 + β1 represents the intercept for those just to the right of the threshold (treatment group). In\n",
    "our figure, c = 5, β0 = 20, and β1 = −8. Therefore going from a running variable score of 4.9 to\n",
    "5.1 and crossing the threshold is associated with an 8 unit decrease in the predicted outcome y\n",
    "\n",
    "I agree with the professor that you should refrain from running such a regression because that would mix up our treatment and add additional variability to the data we haven't accounted for. It would make the threshold more 'blurry' because there isn't really a direct cutoff if students take the exam multiple times and would be accounted for in both the threatment and control group. This violates the core assumption behind RDD and can cause further confounding factors or biases. \n",
    "\n",
    "\n",
    "\n",
    " test of the validity of the approach (equivalent to the test of parallel trends in the outcome\n",
    "variable before the intervention for the Diff-in-Diffs method) is that there are no discontinuities\n",
    "around the threshold for relevant variables other than the treatment and the outcome variables.\n",
    "To make ourselves feel better about this assumption, we look at the averages of observable\n",
    "characteristics of household just above and below the threshold and make sure they’re similar\n",
    "(kind of like in RCT). In other words, we test for the absence of discontinuity for any other variable\n",
    "x.\n",
    "xi = β0 + β1Ti + β2(RunningVari − threshold) + β3Ti × (RunningVari − threshold) + ui\n",
    "\n",
    "If we replace our outcome of interest with a covariate in our RD regression, we want to find a\n",
    "coefficient of zero for our estimated ˆβ1. Another way of doing this is by producing a balance table\n",
    "comparing means across groups, where the control group is those just below the threshold and\n",
    "the treatment those just above\n",
    "\n",
    "\n",
    "Yes, you can test for the validity of the identification assumption, using the test of validity approach or the test of parallel trends in the outcome variable before intervention for the diff-in-diff method. We want to make sure there are no discontinuities around the threshold for the variables other than treatment and outcome. So we can look at the averages of other characteristics like basic demogrpahic and socioeconomic family background data  just above and below the threshold to make sure they are similar. So we can replace outcome unemployment with any other characteristic and ensure that running the regression gives us a beta_1 that is 0. Or we can output a balance table to compare means across groups just above and below the threshold to ensure they are similar.\n",
    "\n",
    "\n",
    "you cannot estimate all coefficients alpha0-50 because there is multicollinearity among them as they are all correlated which can mess with our regression results. To avoid doing so, remove one alpha coefficient and state. \n",
    "\n",
    "\n",
    "y_hat = -3.3 is the “effect” of Year02 relative to the omitted group (Year01). It is the average difference in approval rate between year 2 and year 1. \n",
    "I.e. what is the average difference in crime rate between Year02 and\n",
    "Year00\n",
    "\n",
    "year2 is data of approval rates and unemployment rate for all states in the second year. It probably looks like a dummy variable which is 1 if the observation is for year 2 and 0 if an observation is for year 1. "
   ]
  },
  {
   "cell_type": "code",
   "execution_count": 28,
   "id": "8fc917d0-2fbd-48fb-907a-01dd61e28caa",
   "metadata": {},
   "outputs": [
    {
     "data": {
      "text/html": [
       "7.32217191173949e-05"
      ],
      "text/latex": [
       "7.32217191173949e-05"
      ],
      "text/markdown": [
       "7.32217191173949e-05"
      ],
      "text/plain": [
       "[1] 7.322172e-05"
      ]
     },
     "metadata": {},
     "output_type": "display_data"
    }
   ],
   "source": [
    "pt(4.125, 48, lower.tail = FALSE)"
   ]
  },
  {
   "cell_type": "markdown",
   "id": "f8fac77a-37d7-4769-b857-18a9b5bd45e4",
   "metadata": {},
   "source": [
    "we can calculate the test statistic simply as -3.3/.8 = approx = -4.125\n",
    "This is a two tailed test so we need to calculate pvalue 2P(|T|>|-4.125|) with 48 degrees of freedom and using a r function 2*pt(-4.125, 48,lower.tail=F) with df = 48 we get that t = 1.99985355656177 for two tailed test and since this means that if the null is true and we observe beta_1 = 0 then we would observe a tstat as large as -4.125 about 199% of the time so thus we fail to reject the null at all conventional significance levels\n",
    "\n",
    "\n",
    "The model specificied in this exercise already has coefficients for states and so a dummy variable for west coast states would be correlated with these variables and thus not necessary and could actually cause biases in our outcomes. "
   ]
  },
  {
   "cell_type": "code",
   "execution_count": 31,
   "id": "25d1d7d7-3331-4fcd-8e82-581d24f1827e",
   "metadata": {},
   "outputs": [
    {
     "data": {
      "text/html": [
       "0.508155950347767"
      ],
      "text/latex": [
       "0.508155950347767"
      ],
      "text/markdown": [
       "0.508155950347767"
      ],
      "text/plain": [
       "[1] 0.508156"
      ]
     },
     "metadata": {},
     "output_type": "display_data"
    },
    {
     "data": {
      "text/html": [
       "1.99985355656177"
      ],
      "text/latex": [
       "1.99985355656177"
      ],
      "text/markdown": [
       "1.99985355656177"
      ],
      "text/plain": [
       "[1] 1.999854"
      ]
     },
     "metadata": {},
     "output_type": "display_data"
    },
    {
     "data": {
      "text/html": [
       "1.99407408808675"
      ],
      "text/latex": [
       "1.99407408808675"
      ],
      "text/markdown": [
       "1.99407408808675"
      ],
      "text/plain": [
       "[1] 1.994074"
      ]
     },
     "metadata": {},
     "output_type": "display_data"
    }
   ],
   "source": [
    "2*pt(0.6667, 48,lower.tail=F)\n",
    "2*pt(-4.125, 48,lower.tail=F)\n",
    "2*pt(-2.88, 48,lower.tail=F)"
   ]
  },
  {
   "cell_type": "markdown",
   "id": "fa0ed78e-9c65-42a1-8dec-57ea324dac4c",
   "metadata": {},
   "source": [
    "beta is the coefficient for unemployment and its size is negative and size is specifically -7.2 which means for every one percent increase in unemployment approval rate drops by 7.2 percent which is a very steep decline and for significance please see results below: \n",
    "\n",
    "we can calculate the test statistic simply as -7.2/2.5 = approx = -2.88\n",
    "This is a two tailed test so we need to calculate pvalue 2P(|T|>|-2.88|) with 48 degrees of freedom and using a r function 2*pt(-2.88, 48,lower.tail=F) with df = 48 we get that t = 1.99407408808675 for two tailed test and since this means that if the null is true and we observe beta_1 = 0 then we would observe a tstat as large as  -2.88 about 199% of the time so thus we fail to reject the null at all conventional significance levels"
   ]
  },
  {
   "cell_type": "code",
   "execution_count": null,
   "id": "6a782121-8739-4357-8add-d506d08a07a5",
   "metadata": {},
   "outputs": [],
   "source": []
  },
  {
   "cell_type": "code",
   "execution_count": null,
   "id": "93b35f65-51c5-4303-a07a-56b6b0099fd6",
   "metadata": {},
   "outputs": [],
   "source": []
  },
  {
   "cell_type": "code",
   "execution_count": null,
   "id": "d31e7f86-c2e2-4ecb-9987-cfbc87ed8da9",
   "metadata": {},
   "outputs": [],
   "source": []
  },
  {
   "cell_type": "code",
   "execution_count": null,
   "id": "fd8733e5-94d9-460b-91a4-a884629f8596",
   "metadata": {},
   "outputs": [],
   "source": []
  }
 ],
 "metadata": {
  "kernelspec": {
   "display_name": "R",
   "language": "R",
   "name": "ir"
  },
  "language_info": {
   "codemirror_mode": "r",
   "file_extension": ".r",
   "mimetype": "text/x-r-source",
   "name": "R",
   "pygments_lexer": "r",
   "version": "4.3.1"
  }
 },
 "nbformat": 4,
 "nbformat_minor": 5
}

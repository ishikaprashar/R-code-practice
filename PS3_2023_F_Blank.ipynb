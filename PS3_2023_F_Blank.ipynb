{
 "cells": [
  {
   "cell_type": "markdown",
   "metadata": {},
   "source": [
    "# EEP/IAS 118 - Introductory Applied Econometrics\n",
    "\n",
    "## Problem Set 3, Spring 2023, Villas-Boas\n",
    "\n",
    "#### <span style=\"text-decoration: underline\">Due in Gradescope – see deadline due time  in Gradescope – Mar 7, 2023</span> \n",
    "\n",
    "Submit materials as **one pdf** on [Gradescope](https://www.gradescope.com/courses/492989). After uploading the pdf to Gradescope, please **assign appropriate pages to each question**. Questions that do not have assigned pages on Gradescope may not be graded. Codes and outputs not properly displayed will be marked as incorrect."
   ]
  },
  {
   "cell_type": "markdown",
   "metadata": {},
   "source": [
    "For the purposes of this class, we will be using Berkeley's _Datahub_ to conduct our analysis remotely using these notebooks.\n",
    "\n",
    "If instead you already have an installation of R/RStudio on your personal computer and prefer to work offline, you can download the data for this assignment from bCourses (Make sure to install/update all packages mentioned in the problem sets in order to prevent issues regarding deprecated or outdated packages).\n",
    "\n",
    "* The data files can be accessed directly  through _Datahub_ and do not require you to install anything on your computer. \n",
    "* Before submitting, make sure that all code cells are run with all output fully visible, and **do not print the entire dataset in your submission**. If you viewed the data earlier, remove that line of code and re-run the code cell (as datasets get bigger this adds many pages to pdf submissions and increases the likelihood we miss your answer).\n",
    "\n",
    "*Note: Coding Bootcamp [Part 3](https://r.datahub.berkeley.edu/hub/user-redirect/git-pull?repo=https%3A%2F%2Fgithub.com%2Fds-modules%2FENVECON-118-SP23&branch=main&urlpath=retro%2Ftree%2FENVECON-118-SP23%2F1_CodingBootcamp%2FCoding+Bootcamp+Part+3_2023.ipynb) and [Part 4](https://r.datahub.berkeley.edu/hub/user-redirect/git-pull?repo=https%3A%2F%2Fgithub.com%2Fds-modules%2FENVECON-118-SP23&branch=main&urlpath=retro%2Ftree%2FENVECON-118-SP23%2F1_CodingBootcamp%2FCoding+Bootcamp+Part+4_2023.ipynb) covers all necessary R methods."
   ]
  },
  {
   "cell_type": "markdown",
   "metadata": {},
   "source": [
    "### Preamble\n",
    "When writing R code, it's a good habit to start your notebooks or R scripts with a preamble, a section where you load all necessary packages, set paths or change the working directory, or declare other options.\n",
    "\n",
    "Use the below code cell to load in packages you will use throughout the problem set (at least `haven`, `tidyverse`, and `ggplot2` this week). \n",
    "\n",
    "*Note:* **never** try to install packages on Datahub. All packages that you need are already installed and can be loaded immediately using the `library()` function. Attempting to install packages will create conflicts with the package versions on the server and potentially corrupt your notebook."
   ]
  },
  {
   "cell_type": "code",
   "execution_count": 1,
   "metadata": {},
   "outputs": [
    {
     "name": "stderr",
     "output_type": "stream",
     "text": [
      "── \u001b[1mAttaching packages\u001b[22m ─────────────────────────────────────── tidyverse 1.3.0 ──\n",
      "\n",
      "\u001b[32m✔\u001b[39m \u001b[34mggplot2\u001b[39m 3.4.0     \u001b[32m✔\u001b[39m \u001b[34mpurrr  \u001b[39m 1.0.1\n",
      "\u001b[32m✔\u001b[39m \u001b[34mtibble \u001b[39m 3.1.8     \u001b[32m✔\u001b[39m \u001b[34mdplyr  \u001b[39m 1.1.0\n",
      "\u001b[32m✔\u001b[39m \u001b[34mtidyr  \u001b[39m 1.3.0     \u001b[32m✔\u001b[39m \u001b[34mstringr\u001b[39m 1.5.0\n",
      "\u001b[32m✔\u001b[39m \u001b[34mreadr  \u001b[39m 2.1.3     \u001b[32m✔\u001b[39m \u001b[34mforcats\u001b[39m 1.0.0\n",
      "\n",
      "── \u001b[1mConflicts\u001b[22m ────────────────────────────────────────── tidyverse_conflicts() ──\n",
      "\u001b[31m✖\u001b[39m \u001b[34mdplyr\u001b[39m::\u001b[32mfilter()\u001b[39m masks \u001b[34mstats\u001b[39m::filter()\n",
      "\u001b[31m✖\u001b[39m \u001b[34mdplyr\u001b[39m::\u001b[32mlag()\u001b[39m    masks \u001b[34mstats\u001b[39m::lag()\n",
      "\n"
     ]
    }
   ],
   "source": [
    "# include preamble code here\n",
    "library(haven)\n",
    "library(tidyverse)\n",
    "library(ggplot2)"
   ]
  },
  {
   "cell_type": "markdown",
   "metadata": {},
   "source": [
    "\n"
   ]
  },
  {
   "cell_type": "markdown",
   "metadata": {},
   "source": [
    "## Exercise 1: Relationship between Housing Prices (in USD) and Characteristics of US Cities.\n",
    "\n",
    "This exercise is to be completed using R. We will establish a simple linear relationship between **housing prices and characteristics of cities** in a sample of cities. This is called a hedonic regression, relating price to characteristics. The idea is that if a characteristic is valued in a city, demand for housing increases as people move there, and then housing price increases, all else constant. Vice versa, if people do not value a characteristic, like crime, for example.  \n",
    "\n",
    "*Note: in economics, log always refers to the natural log, ln().*"
   ]
  },
  {
   "cell_type": "markdown",
   "metadata": {},
   "source": [
    "### Data description\n",
    "\n",
    "We will use September 2021 data from Zumper on one-bedroom apartment prices and 2019 data from the FBI on crime for US cities and other characteristics of US cities, such as number of bars, air quality index, wealth of the city measured by GDP, population, whether the city has a winning record majors sports team, as well as the number of sports teams in the major basketball, baseball and American football leagues. The data has 98 cities.\n",
    "\n",
    "<center><b> Readme for data variables, several sources - collected by Villas-Boas, Fall 2021 </b></center>\n",
    "\n",
    "|Variable name \t|\tDefinition\t| Source    |\n",
    "|:-:|:-|:-:|\n",
    "| city | City name | |\n",
    "| state | State name | |\n",
    "|pricesept2021\t|\tOne bedroom housing price, in USD\t|\twww.Zumper.com\t|\n",
    "|successteams\t| Dummy variable =1 if at least one NBA, NFL, or MLB team in a city had a winning record last season (2020 season), =0 otherwise| Google search\n",
    "|violentcrime2019\t| Violent crimes (in thousands) | [FBI](https://ucr.fbi.gov/crime-in-the-u.s/2019/crime-in-the-u.s.-2019/tables/table-8/table-8.xls/view)\n",
    "|numberbars\t| Number of bars, count\t| [www.yellowpages.com](www.yellowpages.com)\n",
    "|aqi2020\t| Annual 2020 air quality index (AQI) |\t[EPA](https://aqs.epa.gov/aqsweb/airdata/download_files.html#Annual)\n",
    "|gdp\t| Gross domestic product (billion $) |\t[BEA](https://apps.bea.gov/itable/iTable.cfm?ReqID=70&step=1&acrdn=5)\n",
    "|popul2019\t| 2019 population (in thousands of people)\t| [FBI](https://ucr.fbi.gov/crime-in-the-u.s/2019/crime-in-the-u.s.-2019/tables/table-8/table-8.xls/view)\n",
    "|nteams\t| Number of major professional sports teams\t| Google search\n"
   ]
  },
  {
   "cell_type": "markdown",
   "metadata": {},
   "source": [
    "**1.** The dataset is in Stata format (.dta) and was created for the purpose of this problem set only. It is available on bcourses and Datahub and is called **Villas-Boas_2023pset3.dta**.\n",
    "\n",
    "Read the data into R using\n",
    "`my_data <- read_dta(\"Villas-Boas_2023pset3.dta\")` \n",
    "and create a new variable, *gdpPc*, as the GDP per capita, defined as `gdp/popul2019`"
   ]
  },
  {
   "cell_type": "code",
   "execution_count": 2,
   "metadata": {},
   "outputs": [
    {
     "data": {
      "text/html": [
       "<table class=\"dataframe\">\n",
       "<caption>A tibble: 6 × 11</caption>\n",
       "<thead>\n",
       "\t<tr><th scope=col>city</th><th scope=col>state</th><th scope=col>pricesept2021</th><th scope=col>successteams</th><th scope=col>violentcrime2019</th><th scope=col>numberbars</th><th scope=col>aqi2020</th><th scope=col>gdp</th><th scope=col>popul2019</th><th scope=col>nteams</th><th scope=col>gdpPc</th></tr>\n",
       "\t<tr><th scope=col>&lt;chr&gt;</th><th scope=col>&lt;chr&gt;</th><th scope=col>&lt;dbl&gt;</th><th scope=col>&lt;dbl&gt;</th><th scope=col>&lt;dbl&gt;</th><th scope=col>&lt;dbl&gt;</th><th scope=col>&lt;dbl&gt;</th><th scope=col>&lt;dbl&gt;</th><th scope=col>&lt;dbl&gt;</th><th scope=col>&lt;dbl&gt;</th><th scope=col>&lt;dbl&gt;</th></tr>\n",
       "</thead>\n",
       "<tbody>\n",
       "\t<tr><td>Chandler  </td><td> AZ</td><td>1450</td><td>0</td><td> 0.593</td><td> 79</td><td>119</td><td>237.47000</td><td> 259.881</td><td>0</td><td>0.9137643</td></tr>\n",
       "\t<tr><td>Gilbert   </td><td> AZ</td><td>1660</td><td>0</td><td> 0.245</td><td> 29</td><td>119</td><td>237.47000</td><td> 253.619</td><td>0</td><td>0.9363257</td></tr>\n",
       "\t<tr><td>Glendale  </td><td> AZ</td><td>1130</td><td>0</td><td> 0.863</td><td> 80</td><td>119</td><td> 11.03773</td><td> 253.951</td><td>0</td><td>0.0434640</td></tr>\n",
       "\t<tr><td>Mesa      </td><td> AZ</td><td>1160</td><td>0</td><td> 1.953</td><td> 16</td><td>119</td><td>237.47000</td><td> 518.160</td><td>0</td><td>0.4582948</td></tr>\n",
       "\t<tr><td>Phoenix   </td><td> AZ</td><td>1260</td><td>1</td><td>11.803</td><td>425</td><td>119</td><td>237.47301</td><td>1688.722</td><td>3</td><td>0.1406229</td></tr>\n",
       "\t<tr><td>Scottsdale</td><td> AZ</td><td>1850</td><td>0</td><td> 0.415</td><td>229</td><td>119</td><td> 11.32081</td><td> 260.464</td><td>0</td><td>0.0434640</td></tr>\n",
       "</tbody>\n",
       "</table>\n"
      ],
      "text/latex": [
       "A tibble: 6 × 11\n",
       "\\begin{tabular}{lllllllllll}\n",
       " city & state & pricesept2021 & successteams & violentcrime2019 & numberbars & aqi2020 & gdp & popul2019 & nteams & gdpPc\\\\\n",
       " <chr> & <chr> & <dbl> & <dbl> & <dbl> & <dbl> & <dbl> & <dbl> & <dbl> & <dbl> & <dbl>\\\\\n",
       "\\hline\n",
       "\t Chandler   &  AZ & 1450 & 0 &  0.593 &  79 & 119 & 237.47000 &  259.881 & 0 & 0.9137643\\\\\n",
       "\t Gilbert    &  AZ & 1660 & 0 &  0.245 &  29 & 119 & 237.47000 &  253.619 & 0 & 0.9363257\\\\\n",
       "\t Glendale   &  AZ & 1130 & 0 &  0.863 &  80 & 119 &  11.03773 &  253.951 & 0 & 0.0434640\\\\\n",
       "\t Mesa       &  AZ & 1160 & 0 &  1.953 &  16 & 119 & 237.47000 &  518.160 & 0 & 0.4582948\\\\\n",
       "\t Phoenix    &  AZ & 1260 & 1 & 11.803 & 425 & 119 & 237.47301 & 1688.722 & 3 & 0.1406229\\\\\n",
       "\t Scottsdale &  AZ & 1850 & 0 &  0.415 & 229 & 119 &  11.32081 &  260.464 & 0 & 0.0434640\\\\\n",
       "\\end{tabular}\n"
      ],
      "text/markdown": [
       "\n",
       "A tibble: 6 × 11\n",
       "\n",
       "| city &lt;chr&gt; | state &lt;chr&gt; | pricesept2021 &lt;dbl&gt; | successteams &lt;dbl&gt; | violentcrime2019 &lt;dbl&gt; | numberbars &lt;dbl&gt; | aqi2020 &lt;dbl&gt; | gdp &lt;dbl&gt; | popul2019 &lt;dbl&gt; | nteams &lt;dbl&gt; | gdpPc &lt;dbl&gt; |\n",
       "|---|---|---|---|---|---|---|---|---|---|---|\n",
       "| Chandler   |  AZ | 1450 | 0 |  0.593 |  79 | 119 | 237.47000 |  259.881 | 0 | 0.9137643 |\n",
       "| Gilbert    |  AZ | 1660 | 0 |  0.245 |  29 | 119 | 237.47000 |  253.619 | 0 | 0.9363257 |\n",
       "| Glendale   |  AZ | 1130 | 0 |  0.863 |  80 | 119 |  11.03773 |  253.951 | 0 | 0.0434640 |\n",
       "| Mesa       |  AZ | 1160 | 0 |  1.953 |  16 | 119 | 237.47000 |  518.160 | 0 | 0.4582948 |\n",
       "| Phoenix    |  AZ | 1260 | 1 | 11.803 | 425 | 119 | 237.47301 | 1688.722 | 3 | 0.1406229 |\n",
       "| Scottsdale |  AZ | 1850 | 0 |  0.415 | 229 | 119 |  11.32081 |  260.464 | 0 | 0.0434640 |\n",
       "\n"
      ],
      "text/plain": [
       "  city       state pricesept2021 successteams violentcrime2019 numberbars\n",
       "1 Chandler    AZ   1450          0             0.593            79       \n",
       "2 Gilbert     AZ   1660          0             0.245            29       \n",
       "3 Glendale    AZ   1130          0             0.863            80       \n",
       "4 Mesa        AZ   1160          0             1.953            16       \n",
       "5 Phoenix     AZ   1260          1            11.803           425       \n",
       "6 Scottsdale  AZ   1850          0             0.415           229       \n",
       "  aqi2020 gdp       popul2019 nteams gdpPc    \n",
       "1 119     237.47000  259.881  0      0.9137643\n",
       "2 119     237.47000  253.619  0      0.9363257\n",
       "3 119      11.03773  253.951  0      0.0434640\n",
       "4 119     237.47000  518.160  0      0.4582948\n",
       "5 119     237.47301 1688.722  3      0.1406229\n",
       "6 119      11.32081  260.464  0      0.0434640"
      ]
     },
     "metadata": {},
     "output_type": "display_data"
    }
   ],
   "source": [
    "# insert your code here\n",
    "my_data <- read_dta(\"Villas-Boas_2023pset3.dta\")\n",
    "#my_data$gdpPc <- my_data$gdp/my_data$popul2019\n",
    "my_data <- mutate(my_data, gdpPc = gdp/popul2019)\n",
    "head(my_data)"
   ]
  },
  {
   "cell_type": "markdown",
   "metadata": {},
   "source": [
    "**2.** For each of the variables (including the newly created *gdpPc* variable), get (a) the sample mean, (b) the median, (c) the minimum, and (d) the maximum.\n",
    "\n",
    "_Hint: see the section on `summary()` in Coding Bootcamp Part 1_"
   ]
  },
  {
   "cell_type": "code",
   "execution_count": 3,
   "metadata": {},
   "outputs": [
    {
     "data": {
      "text/plain": [
       "     city              state           pricesept2021   successteams   \n",
       " Length:98          Length:98          Min.   : 600   Min.   :0.0000  \n",
       " Class :character   Class :character   1st Qu.: 925   1st Qu.:0.0000  \n",
       " Mode  :character   Mode  :character   Median :1175   Median :0.0000  \n",
       "                                       Mean   :1263   Mean   :0.2755  \n",
       "                                       3rd Qu.:1440   3rd Qu.:1.0000  \n",
       "                                       Max.   :2950   Max.   :1.0000  \n",
       " violentcrime2019   numberbars        aqi2020            gdp         \n",
       " Min.   : 0.120   Min.   :  16.0   Min.   : 20.00   Min.   :   9.28  \n",
       " 1st Qu.: 1.276   1st Qu.: 120.2   1st Qu.: 41.00   1st Qu.:  34.06  \n",
       " Median : 2.486   Median : 209.0   Median : 44.00   Median :  81.99  \n",
       " Mean   : 4.641   Mean   : 331.6   Mean   : 51.01   Mean   : 178.24  \n",
       " 3rd Qu.: 5.099   3rd Qu.: 425.0   3rd Qu.: 50.00   3rd Qu.: 217.32  \n",
       " Max.   :47.821   Max.   :2113.0   Max.   :119.00   Max.   :1573.86  \n",
       "   popul2019           nteams           gdpPc        \n",
       " Min.   :  15.39   Min.   :0.0000   Min.   :0.03808  \n",
       " 1st Qu.: 254.05   1st Qu.:0.0000   1st Qu.:0.09706  \n",
       " Median : 389.08   Median :0.0000   Median :0.19188  \n",
       " Mean   : 648.54   Mean   :0.8265   Mean   :0.49223  \n",
       " 3rd Qu.: 683.97   3rd Qu.:1.0000   3rd Qu.:0.39486  \n",
       " Max.   :8379.04   Max.   :6.0000   Max.   :9.45675  "
      ]
     },
     "metadata": {},
     "output_type": "display_data"
    }
   ],
   "source": [
    "# insert your code here\n",
    "summary(my_data)"
   ]
  },
  {
   "cell_type": "markdown",
   "metadata": {},
   "source": [
    "**3.** Create a $\\color{magenta}{\\text{pink}}$ bars histogram for *pricesept2021*. Label everything: add axis titles and a main title.\n",
    "\n",
    "_Hint: see the Histograms section of Coding Bootcamp Part 4_"
   ]
  },
  {
   "cell_type": "code",
   "execution_count": 35,
   "metadata": {},
   "outputs": [
    {
     "data": {
      "image/png": "[encoded data removed]",
      "text/plain": [
       "plot without title"
      ]
     },
     "metadata": {
      "image/png": {
       "height": 420,
       "width": 420
      }
     },
     "output_type": "display_data"
    }
   ],
   "source": [
    "# insert your code here\n",
    "ggplot(data = my_data, aes(x = pricesept2021)) +\n",
    "    geom_histogram(binwidth = 250, colour = \"grey\", fill = \"pink\") +\n",
    "    labs(title = \"One bedroom housing price in September 2021\",\n",
    "        x = \"price (USD)\",\n",
    "        y = \"Count\")"
   ]
  },
  {
   "cell_type": "markdown",
   "metadata": {},
   "source": [
    "**4.** We will now compare housing across the two groups (group **successteams = 1** and **successteams = 0**) using the dataset. How many cities have at least one successful team and how many cities have no successful team?"
   ]
  },
  {
   "cell_type": "code",
   "execution_count": 5,
   "metadata": {},
   "outputs": [
    {
     "data": {
      "text/html": [
       "<table class=\"dataframe\">\n",
       "<caption>A tibble: 2 × 2</caption>\n",
       "<thead>\n",
       "\t<tr><th scope=col>successteams</th><th scope=col>n()</th></tr>\n",
       "\t<tr><th scope=col>&lt;dbl&gt;</th><th scope=col>&lt;int&gt;</th></tr>\n",
       "</thead>\n",
       "<tbody>\n",
       "\t<tr><td>0</td><td>71</td></tr>\n",
       "\t<tr><td>1</td><td>27</td></tr>\n",
       "</tbody>\n",
       "</table>\n"
      ],
      "text/latex": [
       "A tibble: 2 × 2\n",
       "\\begin{tabular}{ll}\n",
       " successteams & n()\\\\\n",
       " <dbl> & <int>\\\\\n",
       "\\hline\n",
       "\t 0 & 71\\\\\n",
       "\t 1 & 27\\\\\n",
       "\\end{tabular}\n"
      ],
      "text/markdown": [
       "\n",
       "A tibble: 2 × 2\n",
       "\n",
       "| successteams &lt;dbl&gt; | n() &lt;int&gt; |\n",
       "|---|---|\n",
       "| 0 | 71 |\n",
       "| 1 | 27 |\n",
       "\n"
      ],
      "text/plain": [
       "  successteams n()\n",
       "1 0            71 \n",
       "2 1            27 "
      ]
     },
     "metadata": {},
     "output_type": "display_data"
    }
   ],
   "source": [
    "# insert your code here\n",
    "successful_team <- group_by(my_data, successteams)\n",
    "summarize(successful_team, n())"
   ]
  },
  {
   "cell_type": "markdown",
   "metadata": {},
   "source": [
    "➡️ Type your written answer for _Exercise 1 Question 4_ here \n",
    "\n",
    "27 cities have at least one sucessful team and 71 cities have no successful teams"
   ]
  },
  {
   "cell_type": "markdown",
   "metadata": {},
   "source": [
    "**5.** Draw separate histograms of the housing price in each group of cities, with and without successful teams.\n",
    "\n",
    "*Hint: see the “Histograms” section of Coding Bootcamp Part 4*"
   ]
  },
  {
   "cell_type": "code",
   "execution_count": 27,
   "metadata": {},
   "outputs": [
    {
     "name": "stderr",
     "output_type": "stream",
     "text": [
      "Warning message:\n",
      "“\u001b[1m\u001b[22mRemoved 2 rows containing missing values (`geom_bar()`).”\n",
      "Warning message:\n",
      "“\u001b[1m\u001b[22mRemoved 2 rows containing missing values (`geom_bar()`).”\n"
     ]
    },
    {
     "data": {
      "image/png": "[encoded data removed]",
      "text/plain": [
       "plot without title"
      ]
     },
     "metadata": {
      "image/png": {
       "height": 420,
       "width": 420
      }
     },
     "output_type": "display_data"
    },
    {
     "data": {
      "image/png": "[encoded data removed]",
      "text/plain": [
       "plot without title"
      ]
     },
     "metadata": {
      "image/png": {
       "height": 420,
       "width": 420
      }
     },
     "output_type": "display_data"
    }
   ],
   "source": [
    "# insert your code here\n",
    "\n",
    "#defaultW <- getOption(\"warn\")\n",
    "#options(warn = -1)\n",
    "\n",
    "nosucc <- filter(my_data, successteams==0) \n",
    "somesucc <- filter(my_data, successteams==1) \n",
    "\n",
    "ggplot(data = nosucc, aes(x = pricesept2021)) +\n",
    "    geom_histogram(binwidth = 300, colour = \"grey\", fill = \"pink\") +\n",
    "    labs(title = \"One bedroom housing price in Sep 2021 for cities with no successful teams\",\n",
    "        x = \"price (USD)\",\n",
    "        y = \"Count\") +\n",
    "        scale_x_continuous(breaks = seq(0, 3000, 200), lim = c(0, 3000))\n",
    "\n",
    "ggplot(data = somesucc, aes(x = pricesept2021)) +\n",
    "    geom_histogram(binwidth = 300, colour = \"grey\", fill = \"pink\") +\n",
    "    labs(title = \"One bedroom housing price in Sep 2021 for cities with at least 1 successful team\",\n",
    "        x = \"price (USD)\",\n",
    "        y = \"Count\") +\n",
    "        scale_x_continuous(breaks = seq(0, 3000, 200), lim = c(0, 3000))\n",
    "\n",
    "#options(warn = defaultW)"
   ]
  },
  {
   "cell_type": "markdown",
   "metadata": {},
   "source": [
    "**6.**\tOverlap both histograms into the same graph and comment on differences (be precise - and explain why the differences intuitively make sense).\n",
    "\n",
    "*Hint: see the “Stacking/Multiple Histograms” section of Coding Bootcamp Part 4*"
   ]
  },
  {
   "cell_type": "code",
   "execution_count": 28,
   "metadata": {},
   "outputs": [
    {
     "data": {
      "image/png": "[encoded data removed]",
      "text/plain": [
       "plot without title"
      ]
     },
     "metadata": {
      "image/png": {
       "height": 420,
       "width": 420
      }
     },
     "output_type": "display_data"
    }
   ],
   "source": [
    "# insert your code here\n",
    "ggplot(data = my_data, aes(x = pricesept2021)) +\n",
    "    geom_histogram(aes(fill = factor(successteams)), position = \"identity\", \n",
    "                   alpha = 0.4, binwidth = 300) +\n",
    "    labs(title = \"One bedroom housing price in Sep 2021\",\n",
    "         subtitle = \"By 0 or at least 1 succesful teams in the city\",\n",
    "         x = \"price (USD)\",\n",
    "         y = \"Count\") +\n",
    "    scale_fill_manual(name = \"Succesful teams\", \n",
    "                      labels = c(\"0\", \"at least 1\"),\n",
    "                      values = c(\"green\", \"blue\"))"
   ]
  },
  {
   "cell_type": "markdown",
   "metadata": {},
   "source": [
    "➡️ Type your written answer for _Exercise 1 Question 6_ here \n",
    "\n",
    "When the city has no successful teams, we find that the distribution of housing prices is skewed to the right. This makes sense because we would expect that some people would find cities with no succesful sports teams less apealing and so housing prices would be lower. However we find that the teams with at least one succesful sport team don't follow a continuous distirbution for the most part and this is probably because there are not many cities that even have a successful team, so the data is more varied but we still find some very high price values/outliers because those cities must be very popular. "
   ]
  },
  {
   "cell_type": "markdown",
   "metadata": {},
   "source": [
    "**7.**\tCompute an estimate for the mean of the housing prices for the successful teams city group (**successteams=1**) in the data frame. Construct a 95% confidence interval for this mean. Give an interpretation of these results in a sentence.  \n",
    "\n",
    "_(Hint: use `mean()` and `sd()` to get the necessary information to construct the CI)_"
   ]
  },
  {
   "cell_type": "code",
   "execution_count": 8,
   "metadata": {},
   "outputs": [
    {
     "name": "stdout",
     "output_type": "stream",
     "text": [
      "[1] \"mean\"\n"
     ]
    },
    {
     "data": {
      "text/html": [
       "1507.40740740741"
      ],
      "text/latex": [
       "1507.40740740741"
      ],
      "text/markdown": [
       "1507.40740740741"
      ],
      "text/plain": [
       "[1] 1507.407"
      ]
     },
     "metadata": {},
     "output_type": "display_data"
    },
    {
     "name": "stdout",
     "output_type": "stream",
     "text": [
      "[1] \"standard deviation\"\n"
     ]
    },
    {
     "data": {
      "text/html": [
       "550.626165187574"
      ],
      "text/latex": [
       "550.626165187574"
      ],
      "text/markdown": [
       "550.626165187574"
      ],
      "text/plain": [
       "[1] 550.6262"
      ]
     },
     "metadata": {},
     "output_type": "display_data"
    },
    {
     "name": "stdout",
     "output_type": "stream",
     "text": [
      "[1] \"confidence interval\"\n"
     ]
    },
    {
     "data": {
      "text/html": [
       "<style>\n",
       ".list-inline {list-style: none; margin:0; padding: 0}\n",
       ".list-inline>li {display: inline-block}\n",
       ".list-inline>li:not(:last-child)::after {content: \"\\00b7\"; padding: 0 .5ex}\n",
       "</style>\n",
       "<ol class=list-inline><li>1289.58695100891</li><li>1725.2278638059</li></ol>\n"
      ],
      "text/latex": [
       "\\begin{enumerate*}\n",
       "\\item 1289.58695100891\n",
       "\\item 1725.2278638059\n",
       "\\end{enumerate*}\n"
      ],
      "text/markdown": [
       "1. 1289.58695100891\n",
       "2. 1725.2278638059\n",
       "\n",
       "\n"
      ],
      "text/plain": [
       "[1] 1289.587 1725.228"
      ]
     },
     "metadata": {},
     "output_type": "display_data"
    }
   ],
   "source": [
    "# insert code here\n",
    "somesuccess <- filter(my_data, successteams==1) \n",
    "print(\"mean\")\n",
    "mean7 <- mean(somesuccess$pricesept2021)\n",
    "mean7\n",
    "print('standard deviation')\n",
    "sd7 <- sd(somesuccess$pricesept2021)\n",
    "sd7\n",
    "print(\"confidence interval\")\n",
    "critval <- qt(0.975, nrow(somesuccess)-1)\n",
    "c(mean7-critval*(sd7/sqrt(nrow(somesuccess))), mean7+critval*(sd7/sqrt(nrow(somesuccess))))"
   ]
  },
  {
   "cell_type": "markdown",
   "metadata": {},
   "source": [
    "➡️ Type your answer to _Exercise 1 Question 7_ here \n",
    "The average housing price for successful teams city group is 1,507.40740740741 dollars with a standard deviation or variance of this housing price is $550.626165187574. \n",
    "\n",
    "The confidence interval states that with 95% probability this confidence interval has the true average housing price for sucessful teams city group. So specifically in this case we are 95% confident that our interval covers the true mean housing price for cities with at least one successful team between the values 1289.58695100891 dollars and upper end of 1725.2278638059 dollars."
   ]
  },
  {
   "cell_type": "markdown",
   "metadata": {},
   "source": [
    "**8.**\tLet $D$ be the difference in prices between the cities with successful sports teams (**successteams=1**) and unsuccessful (**successteams=0**) groups. State an estimator $\\hat{D}$ for $D$ and use the estimator to compute an estimate of $D$. Compute a standard error for $\\hat{D}$. Derive a 90% confidence interval for $D$ and interpret in one sentence. "
   ]
  },
  {
   "cell_type": "code",
   "execution_count": 9,
   "metadata": {},
   "outputs": [
    {
     "name": "stdout",
     "output_type": "stream",
     "text": [
      "[1] \"estimator\"\n"
     ]
    },
    {
     "data": {
      "text/html": [
       "336.98487219614"
      ],
      "text/latex": [
       "336.98487219614"
      ],
      "text/markdown": [
       "336.98487219614"
      ],
      "text/plain": [
       "[1] 336.9849"
      ]
     },
     "metadata": {},
     "output_type": "display_data"
    },
    {
     "name": "stdout",
     "output_type": "stream",
     "text": [
      "[1] \"standard error\"\n"
     ]
    },
    {
     "data": {
      "text/html": [
       "114.809223052337"
      ],
      "text/latex": [
       "114.809223052337"
      ],
      "text/markdown": [
       "114.809223052337"
      ],
      "text/plain": [
       "[1] 114.8092"
      ]
     },
     "metadata": {},
     "output_type": "display_data"
    },
    {
     "name": "stdout",
     "output_type": "stream",
     "text": [
      "[1] \"confidence interval\"\n"
     ]
    },
    {
     "data": {
      "text/html": [
       "<style>\n",
       ".list-inline {list-style: none; margin:0; padding: 0}\n",
       ".list-inline>li {display: inline-block}\n",
       ".list-inline>li:not(:last-child)::after {content: \"\\00b7\"; padding: 0 .5ex}\n",
       "</style>\n",
       "<ol class=list-inline><li>146.3003644504</li><li>527.66937994188</li></ol>\n"
      ],
      "text/latex": [
       "\\begin{enumerate*}\n",
       "\\item 146.3003644504\n",
       "\\item 527.66937994188\n",
       "\\end{enumerate*}\n"
      ],
      "text/markdown": [
       "1. 146.3003644504\n",
       "2. 527.66937994188\n",
       "\n",
       "\n"
      ],
      "text/plain": [
       "[1] 146.3004 527.6694"
      ]
     },
     "metadata": {},
     "output_type": "display_data"
    }
   ],
   "source": [
    "# insert your code here\n",
    "somesuccess <- filter(my_data, successteams==1) \n",
    "nosuccess <- filter(my_data, successteams==0) \n",
    "d_hat <- mean(somesuccess$pricesept2021) - mean(nosuccess$pricesept2021)\n",
    "print('estimator')\n",
    "d_hat\n",
    "sd8some <- sd(somesuccess$pricesept2021)*sd(somesuccess$pricesept2021)\n",
    "sd8none <- sd(nosuccess$pricesept2021)*sd(nosuccess$pricesept2021)\n",
    "stderror8 <- sqrt((sd8some/nrow(somesuccess))+(sd8none/nrow(nosuccess)))\n",
    "print(\"standard error\")\n",
    "stderror8\n",
    "print(\"confidence interval\")\n",
    "critva8l <- qt(0.95, nrow(my_data)-2)\n",
    "c(d_hat-critva8l*stderror8, d_hat+critva8l*stderror8)"
   ]
  },
  {
   "cell_type": "markdown",
   "metadata": {},
   "source": [
    "➡️ Type your answer to _Exercise 1 Question 8_ here \n",
    "\n",
    "The confidence interval states that with 90% probability this confidence interval has the true difference in prices between the cities with successful sports teams and unsuccessful groups. So specifically in this case we are 90% confident that our confidence interval contains the true difference in prices between the cities with successful sports teams and unsuccessful groups between the values of 146.3003644504 dollars and 527.66937994188 dollars."
   ]
  },
  {
   "cell_type": "markdown",
   "metadata": {},
   "source": [
    "**9.** Using the data frame, test whether the average of the housing values **pricesept2021** for the successful teams’ city group is statistically different at the 1% significance level ($\\alpha$ = 0.01) from average housing values in the unsuccessful teams’ city group (that is, in terms of the hypothesis, the null is equal, and the alternative is not equal). (Recall the 5 step-procedure for hypothesis testing). "
   ]
  },
  {
   "cell_type": "code",
   "execution_count": 10,
   "metadata": {},
   "outputs": [
    {
     "name": "stdout",
     "output_type": "stream",
     "text": [
      "[1] \"estimator\"\n"
     ]
    },
    {
     "data": {
      "text/html": [
       "336.98487219614"
      ],
      "text/latex": [
       "336.98487219614"
      ],
      "text/markdown": [
       "336.98487219614"
      ],
      "text/plain": [
       "[1] 336.9849"
      ]
     },
     "metadata": {},
     "output_type": "display_data"
    },
    {
     "name": "stdout",
     "output_type": "stream",
     "text": [
      "[1] \"standard error\"\n"
     ]
    },
    {
     "data": {
      "text/html": [
       "114.809223052337"
      ],
      "text/latex": [
       "114.809223052337"
      ],
      "text/markdown": [
       "114.809223052337"
      ],
      "text/plain": [
       "[1] 114.8092"
      ]
     },
     "metadata": {},
     "output_type": "display_data"
    },
    {
     "name": "stdout",
     "output_type": "stream",
     "text": [
      "[1] \"test stat\"\n"
     ]
    },
    {
     "data": {
      "text/html": [
       "2.93517248211429"
      ],
      "text/latex": [
       "2.93517248211429"
      ],
      "text/markdown": [
       "2.93517248211429"
      ],
      "text/plain": [
       "[1] 2.935172"
      ]
     },
     "metadata": {},
     "output_type": "display_data"
    },
    {
     "name": "stdout",
     "output_type": "stream",
     "text": [
      "[1] \"degrees of freedom\"\n"
     ]
    },
    {
     "data": {
      "text/html": [
       "96"
      ],
      "text/latex": [
       "96"
      ],
      "text/markdown": [
       "96"
      ],
      "text/plain": [
       "[1] 96"
      ]
     },
     "metadata": {},
     "output_type": "display_data"
    },
    {
     "name": "stdout",
     "output_type": "stream",
     "text": [
      "[1] \"critical value\"\n"
     ]
    },
    {
     "data": {
      "text/html": [
       "2.62801584351007"
      ],
      "text/latex": [
       "2.62801584351007"
      ],
      "text/markdown": [
       "2.62801584351007"
      ],
      "text/plain": [
       "[1] 2.628016"
      ]
     },
     "metadata": {},
     "output_type": "display_data"
    },
    {
     "name": "stdout",
     "output_type": "stream",
     "text": [
      "[1] \"reject?\"\n"
     ]
    },
    {
     "data": {
      "text/html": [
       "TRUE"
      ],
      "text/latex": [
       "TRUE"
      ],
      "text/markdown": [
       "TRUE"
      ],
      "text/plain": [
       "[1] TRUE"
      ]
     },
     "metadata": {},
     "output_type": "display_data"
    }
   ],
   "source": [
    "# insert your code here\n",
    "print('estimator')\n",
    "d_hat\n",
    "\n",
    "print(\"standard error\")\n",
    "stderror8\n",
    "\n",
    "print(\"test stat\")\n",
    "test_stat9 <- (d_hat-0)/stderror8\n",
    "test_stat9\n",
    "\n",
    "print(\"degrees of freedom\")\n",
    "df9 <- nrow(somesuccess)+nrow(nosuccess)-2\n",
    "df9\n",
    "\n",
    "print(\"critical value\")\n",
    "critva8l <- qt(0.995, df9)\n",
    "critva8l\n",
    "\n",
    "print(\"reject?\")\n",
    "test_stat9 > critva8l"
   ]
  },
  {
   "cell_type": "markdown",
   "metadata": {},
   "source": [
    "➡️ Type your answer to _Exercise 1 Question 9_ here \n",
    "\n",
    "This is a difference in means hypothesis test and we will be testing if cities with successful sports teams and unsuccessful groups have different average housing prices. So our question is the following: Are average housing prices different between cities with at least one successful sports team and cities with no successful teams? \n",
    "\n",
    "**Step 1)** The null and alternate hypotheses (assuming μ1 is average housing price for cities with at least one successful sports team and μ2 is the average housing price for cities with no successful sports teams): \n",
    "\n",
    "H0 : μ1 = μ2\n",
    "\n",
    "H1 : μ1!= μ2\n",
    "\n",
    "We can rewrite these hypotheses as:\n",
    "\n",
    "H0 : D = μ1 −μ2 = 0\n",
    "\n",
    "H1 : D = μ1 −μ2 != 0\n",
    "\n",
    "**Step 2)** To calculate our test statistic we can use d_hat (estimator for difference in average housing prices for the two groups) from question 8 and standard error of d_hat from question 8 as well. From above we see that d_hat is 336.98487219614 dollars standard error of d_hat is 114.809223052337 dollars. From this information we can calculate the t statistic using the following formula:\n",
    "\n",
    "t = (d_hat-d_h0)/se(d_hat) --> We know that d_h0 = 0 from step 1 so this will be d_hat/se(d_hat) = 336.98487219614/114.809223052337 = 2.93517248211429 and degrees of freedom for this t_stat (t_distribution) is 96\n",
    "\n",
    "**Step 3)** Our significance level is 1% (𝛼 = 0.01) We have to use the t-table because the data frame is not very large, only 98 values total and DF are 96. The two tailed critical value is 2.62801584351007\n",
    "\n",
    "**Step 4)** We reject the null hypothesis if |t| > |c|. In this case: |2.93517248211429| > |2.62801584351007| is a true statement, and so we reject the null that the differences in average housing price between the two city groups is 0\n",
    "\n",
    "**Step 5)** Interpretation: We reject the null hypothesis. There is statistical evidence at the 1% level that the average housing prices is not the same in cities with at least one successful sports team and cities with no successful sports teams. "
   ]
  },
  {
   "cell_type": "markdown",
   "metadata": {},
   "source": [
    "**10.**\tLet's now look at air quality in the data. **The U.S. AQI is EPA’s index for reporting air quality**. Draw a histogram for **aqi2020** and add a vertical red line at the EPA standard for Spare the Air Day AQI = 100. (https://www.airnow.gov/aqi/aqi-basics/)"
   ]
  },
  {
   "cell_type": "markdown",
   "metadata": {},
   "source": [
    "For example, in the Bay Area, a Spare the Air Alert is called when air quality is forecast to be unhealthy, or above 100 in the AQI, in any one of the reporting zones. An alert may span over two days if air quality is expected to remain unhealthy for prolonged periods. If air quality is unhealthy in the Bay Area, it is almost always because of two kinds of air [pollutants](https://www.sparetheair.org/understanding-air-quality/air-pollutants-and-health-effects/whos-at-risk): [Ozone](https://www.sparetheair.org/understanding-air-quality/air-pollutants-and-health-effects/ozone) and [fine particulate matter, or PM2.5](https://www.sparetheair.org/understanding-air-quality/air-pollutants-and-health-effects/particulate-matter)."
   ]
  },
  {
   "cell_type": "markdown",
   "metadata": {},
   "source": [
    "_Hint: see the \"Lines\" section of Coding Bootcamp Part 4_"
   ]
  },
  {
   "cell_type": "code",
   "execution_count": 25,
   "metadata": {},
   "outputs": [
    {
     "data": {
      "image/png": "[encoded data removed]",
      "text/plain": [
       "plot without title"
      ]
     },
     "metadata": {
      "image/png": {
       "height": 420,
       "width": 420
      }
     },
     "output_type": "display_data"
    }
   ],
   "source": [
    "# insert your code here\n",
    "ggplot(data = my_data, aes(x = aqi2020)) +\n",
    "    geom_histogram(binwidth = 30, colour = \"grey60\", fill = \"darkolivegreen1\") +\n",
    "    labs(title = \"2020 Air Quality Index (AQI)\",\n",
    "        x = \"AQI\",\n",
    "        y = \"Count\") +\n",
    "        geom_vline(xintercept = 100, colour = \"red\") "
   ]
  },
  {
   "cell_type": "markdown",
   "metadata": {},
   "source": [
    "**11.**\t(a) Regress **pricesept2021** on a constant, **successteams, violentcrime2019, aqi2020, numberbars, gdpPc**. (b) Generate a series of the predicted values of price and plot those against the price data series: What do you see in terms of fit? "
   ]
  },
  {
   "cell_type": "code",
   "execution_count": 12,
   "metadata": {},
   "outputs": [
    {
     "data": {
      "text/plain": [
       "\n",
       "Call:\n",
       "lm(formula = pricesept2021 ~ successteams + violentcrime2019 + \n",
       "    aqi2020 + numberbars + gdpPc, data = my_data)\n",
       "\n",
       "Residuals:\n",
       "    Min      1Q  Median      3Q     Max \n",
       "-575.59 -263.55  -67.21  160.46 1415.88 \n",
       "\n",
       "Coefficients:\n",
       "                 Estimate Std. Error t value Pr(>|t|)    \n",
       "(Intercept)      789.8459   115.6321   6.831 8.94e-10 ***\n",
       "successteams     101.6080   112.4484   0.904  0.36857    \n",
       "violentcrime2019  -7.8547    12.2667  -0.640  0.52355    \n",
       "aqi2020            5.1845     1.9341   2.681  0.00871 ** \n",
       "numberbars         0.6319     0.2539   2.489  0.01460 *  \n",
       "gdpPc             15.9828    35.0096   0.457  0.64909    \n",
       "---\n",
       "Signif. codes:  0 ‘***’ 0.001 ‘**’ 0.01 ‘*’ 0.05 ‘.’ 0.1 ‘ ’ 1\n",
       "\n",
       "Residual standard error: 396.5 on 92 degrees of freedom\n",
       "Multiple R-squared:  0.2699,\tAdjusted R-squared:  0.2302 \n",
       "F-statistic: 6.801 on 5 and 92 DF,  p-value: 1.94e-05\n"
      ]
     },
     "metadata": {},
     "output_type": "display_data"
    },
    {
     "data": {
      "image/png": "[encoded data removed]",
      "text/plain": [
       "plot without title"
      ]
     },
     "metadata": {
      "image/png": {
       "height": 420,
       "width": 420
      }
     },
     "output_type": "display_data"
    }
   ],
   "source": [
    "# insert your code here\n",
    "reg11 <- lm(pricesept2021~successteams+violentcrime2019+aqi2020+numberbars+gdpPc, my_data)\n",
    "predprice <- reg11$fitted.values\n",
    "actprice <- my_data$pricesept2021\n",
    "\n",
    "summary(reg11)\n",
    "\n",
    "ggplot(data = my_data, aes(x = actprice, y = predprice)) +\n",
    "    geom_point() +\n",
    "    labs(title = \"Scatter plot of predicted vs actual housing price\",\n",
    "        x = \"actual price (USD)\",\n",
    "        y = \"predicted price (USD)\") \n"
   ]
  },
  {
   "cell_type": "markdown",
   "metadata": {},
   "source": [
    "➡️ Type your answer to _Exercise 1 Question 11_ here \n",
    "\n",
    "Plotting price and predicted values, I see that there does seem to be somewhat of a fit as we get an upward sloping pattern however the data is fairly scattered so its not the best or most perfect fit. In the case of a perfect fit I would expect to essentially see a 45 degree line where if the actual price for example is around 2000USD then the predicted price must also be exactly or very close to 2000USD but in this case we see there is much more variation. "
   ]
  },
  {
   "cell_type": "markdown",
   "metadata": {},
   "source": [
    "**12.**\tWhat is the percent variation of housing prices that the model is explaining, and what percent is the model **NOT** explaining?"
   ]
  },
  {
   "cell_type": "markdown",
   "metadata": {},
   "source": [
    "➡️ Type your answer to _Exercise 1 Question 12_ here \n",
    "\n",
    "Given that the Multiple R-squared:  0.2699, the percent variation of housing prices that the model is explaining is 26.99%. This means that the model is not explaining (100-26.99)% = 73.01% of the variation in housing prices "
   ]
  },
  {
   "cell_type": "markdown",
   "metadata": {},
   "source": [
    "**13.**\tCompute the residuals series and plot the residuals on the vertical axis against **gdpPc** in the x axis, using `ggplot()`. When plotting, exclude the outlier city with gdpPc > 6, by setting the ggplot scale limits as follows: `lims(x = c(0, 6), y = c(-1000,1500))`. \n",
    "\n",
    "Is the constant variance assumption for the residuals valid or not for different levels of **gdpPc**, that is, of GDP per capita when you look at the scatter plot of the estimated residuals? "
   ]
  },
  {
   "cell_type": "code",
   "execution_count": 13,
   "metadata": {},
   "outputs": [
    {
     "name": "stderr",
     "output_type": "stream",
     "text": [
      "Warning message:\n",
      "“\u001b[1m\u001b[22mRemoved 2 rows containing missing values (`geom_point()`).”\n"
     ]
    },
    {
     "data": {
      "image/png": "[encoded data removed]",
      "text/plain": [
       "plot without title"
      ]
     },
     "metadata": {
      "image/png": {
       "height": 420,
       "width": 420
      }
     },
     "output_type": "display_data"
    }
   ],
   "source": [
    "# insert your code here\n",
    "resids11 <- reg11$residuals\n",
    "gdppc11 <- my_data$gdpPc\n",
    "ggplot(data = my_data, aes(x = gdppc11, y = resids11)) +\n",
    "    geom_point() +\n",
    "    labs(title = \"gdp and residuals\",\n",
    "        x = \"gdpPc\",\n",
    "        y = \"residuals\") + \n",
    "        lims(x = c(0, 6), y = c(-1000,1500))"
   ]
  },
  {
   "cell_type": "markdown",
   "metadata": {},
   "source": [
    "➡️ Type your answer to _Exercise 1 Question 13_ here \n",
    "\n",
    "The constant variance assumption for the residuals is not valid for different levels of gdpPc (GDP per capita) because we see that the residuals are not roughly equal at different gdpPc values and seem to be most concentrated near 0-1 gdpPc"
   ]
  },
  {
   "cell_type": "markdown",
   "metadata": {},
   "source": [
    "**14.**\tUsing the triplet Sign Size Significance (SSS), let’s interpret two of the coefficients from the model in Question 11. \n",
    "\n",
    "**(a)** What can you say of the effect of **aqi2020** on housing prices holding other factors constant? \n"
   ]
  },
  {
   "cell_type": "markdown",
   "metadata": {},
   "source": [
    "➡️ Type your answer to _Exercise 1 Question 14 part (a)_ here \n",
    "\n",
    "The coefficient for aqi2020 is 5.1845. This means that holding all other factors constant (successteams, violentcrime2019, numberbars, and gdpPc) a one unit increase in the 2020 air quality index leads to a $5.1845 USD increaes in the predicted one bedroom housing price (pricesept2021). The **sign** on the coefficient is positive which means an increase in AQI is associated with an increase in predicted housing price. The **size** refers to the interpratation that a one unit increase in AQI increases predicted housing price by 5.1845 USD. **significance** Given that the pvalue of aqi2020 is 0.00871 so the coefficient is statisically significant at the 1% level (which implies that it is also significant at the 5% and 10% level). "
   ]
  },
  {
   "cell_type": "markdown",
   "metadata": {},
   "source": [
    "**(b)** What about the coefficient on **successteams**? Use the (SSS) interpretation again.\n",
    "\n",
    "The coefficient for successteams is 101.6080. This means that holding all other factors constant (aqi2020, violentcrime2019, numberbars, and gdpPc) if a city has at least one successful sports team, then the predicted one bedroom housing price increases by 101.6080 USD compared to the cities with any successful sports team. The **sign** on the coefficient is positive which means having at least one successful sports team is associated with an increase in predicted housing price. The **size** refers to the interpratation that having at least one successful sporst team increases predicted housing price by 101.6080 USD. **significance** Given that the pvalue of the coefficient of successteams is 0.36857, the coefficient is statistically insignificant at the 10,5, and 1% levels. "
   ]
  },
  {
   "cell_type": "markdown",
   "metadata": {},
   "source": [
    "➡️ Type your answer to _Exercise 1 Question 14 part (b)_ here (replacing this text)"
   ]
  },
  {
   "cell_type": "markdown",
   "metadata": {},
   "source": [
    "**15.**\tGiven the estimated coefficients in Question 11's regression, and after you estimate the correlation between **gdpPc** and the air quality index across cities, what will happen to the estimated coefficient of **gdpPc** if you do not include the air quality index (**aqi2020**) in the estimated regression in question 11? Go through the Omitted Variable formula and explain briefly."
   ]
  },
  {
   "cell_type": "code",
   "execution_count": 14,
   "metadata": {},
   "outputs": [
    {
     "data": {
      "text/html": [
       "-0.063199112286013"
      ],
      "text/latex": [
       "-0.063199112286013"
      ],
      "text/markdown": [
       "-0.063199112286013"
      ],
      "text/plain": [
       "[1] -0.06319911"
      ]
     },
     "metadata": {},
     "output_type": "display_data"
    }
   ],
   "source": [
    "# insert your code here\n",
    "cor(my_data$gdpPc,my_data$aqi2020)"
   ]
  },
  {
   "cell_type": "markdown",
   "metadata": {},
   "source": [
    "➡️ Type your answer to _Exercise 1 Question 15_ here \n",
    "\n",
    "The estimated correlation between gdpPc and air quality index across cities is -0.063199112286013.\n",
    "\n",
    "Using the formula:\n",
    "\n",
    "Sign(bias) = Sign(coefficient for aqi2020) * sign(cor(gdpPc,aqi2020))\n",
    "\n",
    "We know that the coefficient for aqi2020 is positive and the correlation between gpdPc and aqi2020 is negative which means our bias is negative, or moving in the negative direction (downward bias). This means that if we exclude aqi2020 in the model then the estimated coefficient on gdpPc would decrease and move towards the downward direction (decreasing). \n"
   ]
  },
  {
   "cell_type": "markdown",
   "metadata": {},
   "source": [
    "**16.**\tNow estimate the model in Question 11 but do not include **aqi2020**. What is the new estimate of the coefficient on **gdpPc**, and do you confirm your answer in Question 15? "
   ]
  },
  {
   "cell_type": "code",
   "execution_count": 15,
   "metadata": {},
   "outputs": [
    {
     "data": {
      "text/plain": [
       "\n",
       "Call:\n",
       "lm(formula = pricesept2021 ~ successteams + violentcrime2019 + \n",
       "    numberbars + gdpPc, data = my_data)\n",
       "\n",
       "Residuals:\n",
       "    Min      1Q  Median      3Q     Max \n",
       "-544.57 -301.62  -68.01  136.82 1389.77 \n",
       "\n",
       "Coefficients:\n",
       "                  Estimate Std. Error t value Pr(>|t|)    \n",
       "(Intercept)      1059.3375    58.9938  17.957   <2e-16 ***\n",
       "successteams       99.8329   116.1256   0.860   0.3922    \n",
       "violentcrime2019   -4.5236    12.6029  -0.359   0.7205    \n",
       "numberbars          0.5750     0.2613   2.201   0.0302 *  \n",
       "gdpPc              13.7449    36.1448   0.380   0.7046    \n",
       "---\n",
       "Signif. codes:  0 ‘***’ 0.001 ‘**’ 0.01 ‘*’ 0.05 ‘.’ 0.1 ‘ ’ 1\n",
       "\n",
       "Residual standard error: 409.4 on 93 degrees of freedom\n",
       "Multiple R-squared:  0.2129,\tAdjusted R-squared:  0.179 \n",
       "F-statistic: 6.287 on 4 and 93 DF,  p-value: 0.0001599\n"
      ]
     },
     "metadata": {},
     "output_type": "display_data"
    }
   ],
   "source": [
    "# insert your code here\n",
    "reg11 <- lm(pricesept2021~successteams+violentcrime2019+numberbars+gdpPc, my_data)\n",
    "summary(reg11)"
   ]
  },
  {
   "cell_type": "markdown",
   "metadata": {},
   "source": [
    "➡️ Type your answer to _Exercise 1 Question 16_ here \n",
    "\n",
    "The new coefficient estimate for gdpPc is 13.7449 whereas in question 11 it was 15.9828  which confirms that the bias moves towards the negative direction when we omit aqi2020. "
   ]
  },
  {
   "cell_type": "markdown",
   "metadata": {},
   "source": [
    "**17.**\tWhat happens to the R squared ($R^2$) when you do not include the **aqi2020** variable in the equation compared to the R squared in Question 11?"
   ]
  },
  {
   "cell_type": "code",
   "execution_count": 16,
   "metadata": {},
   "outputs": [],
   "source": [
    "# insert your code"
   ]
  },
  {
   "cell_type": "markdown",
   "metadata": {},
   "source": [
    "➡️ Type your answer to _Exercise 1 Question 17_ here \n",
    "\n",
    "The r-squared for the model which included aqi2020 was 0.2699 and when you do not include aqi2020 the r-squared decreased to 0.2129 which means that including aqi2020 helped increase and explain the variance in housing price. "
   ]
  },
  {
   "cell_type": "markdown",
   "metadata": {},
   "source": [
    "## Exercise 2: Survey Evidence Towards Safe Working Conditions of Essential Workers during COVID"
   ]
  },
  {
   "cell_type": "markdown",
   "metadata": {},
   "source": [
    "Two former EEP majors and I have a co-authored a forthcoming paper in the _Applied Economics Perspectives and Policy_ journal, using survey data to investigate consumer preferences towards sustainable food and products manufactured under safe working conditions of essential labor during the COVID pandemic[<sup>1</sup>](#fn1). \n",
    "\n",
    "We ask survey respondents some basic demographics, and also whether they or a loved one were exposed or had COVID in early 2020. Then we ask them to make choices among food options that vary in price and also vary in whether they are produced under safe essential labor conditions. Based on stated survey responses we summarize the choices consistent with respondents preferring the safe labor working conditions product. We also break up the agreement with choosing worker-safe products for respondents that were exposed to COVID in 2020 either directly or through a loved one, and those that were not exposed."
   ]
  },
  {
   "cell_type": "markdown",
   "metadata": {},
   "source": [
    " | | Percent choosing Safe Worker Condition Product | Total number of respondents |\n",
    " |:--|:--:|:--:|\n",
    " | Overall | 64.42% | 860 |\n",
    " | Exposed to COVID | 67.89% | 601 |\n",
    " | Not Exposed to COVID | 56.37% | 259 |"
   ]
  },
  {
   "cell_type": "markdown",
   "metadata": {},
   "source": [
    " Let $p$ be the fraction of respondents that opt to choose the safe working condition products."
   ]
  },
  {
   "cell_type": "markdown",
   "metadata": {},
   "source": [
    "**1.**\tUse the survey results to estimate $p$. Also estimate the standard error of your estimate. "
   ]
  },
  {
   "cell_type": "code",
   "execution_count": 17,
   "metadata": {},
   "outputs": [
    {
     "data": {
      "text/html": [
       "0.0163254103548981"
      ],
      "text/latex": [
       "0.0163254103548981"
      ],
      "text/markdown": [
       "0.0163254103548981"
      ],
      "text/plain": [
       "[1] 0.01632541"
      ]
     },
     "metadata": {},
     "output_type": "display_data"
    }
   ],
   "source": [
    "# insert any code here for using R as your calculator\n",
    "p_hat <-  64.42/100\n",
    "n_q1 <- 860\n",
    "stnderro <- sqrt((p_hat*(1-p_hat))/n_q1)\n",
    "stnderro"
   ]
  },
  {
   "cell_type": "markdown",
   "metadata": {},
   "source": [
    "➡️ Type your answer to _Exercise 2 Question 1_ here \n",
    "\n",
    "p_hat or the estimate of p is .6442 and the standard error is 0.0163254103548981"
   ]
  },
  {
   "cell_type": "markdown",
   "metadata": {},
   "source": [
    "**2.**\tConstruct a 95% confidence interval for $p$. Interpret. "
   ]
  },
  {
   "cell_type": "code",
   "execution_count": 18,
   "metadata": {},
   "outputs": [
    {
     "data": {
      "text/html": [
       "<style>\n",
       ".list-inline {list-style: none; margin:0; padding: 0}\n",
       ".list-inline>li {display: inline-block}\n",
       ".list-inline>li:not(:last-child)::after {content: \"\\00b7\"; padding: 0 .5ex}\n",
       "</style>\n",
       "<ol class=list-inline><li>0.6122021957044</li><li>0.6761978042956</li></ol>\n"
      ],
      "text/latex": [
       "\\begin{enumerate*}\n",
       "\\item 0.6122021957044\n",
       "\\item 0.6761978042956\n",
       "\\end{enumerate*}\n"
      ],
      "text/markdown": [
       "1. 0.6122021957044\n",
       "2. 0.6761978042956\n",
       "\n",
       "\n"
      ],
      "text/plain": [
       "[1] 0.6122022 0.6761978"
      ]
     },
     "metadata": {},
     "output_type": "display_data"
    }
   ],
   "source": [
    "# insert any code here for using R as your calculator\n",
    "c(p_hat - 1.96 * stnderro , p_hat + 1.96 * stnderro)"
   ]
  },
  {
   "cell_type": "markdown",
   "metadata": {},
   "source": [
    "➡️ Type your answer to _Exercise 2 Question 2_ here \n",
    "\n",
    "We learn that with 95% probability this confidence interval has the true p, the true fraction of respondents that opt to choose the safe working condition products and it is between 0.6122021957044 to 0.6761978042956 or 61.22021957044% to 67.61978042956%\n",
    "\n",
    "I followed the Z (normal) distribution because the sample size n is large and formed a rejection region on each tail as 2.5% and found the 1.96 value."
   ]
  },
  {
   "cell_type": "markdown",
   "metadata": {},
   "source": [
    "**3.**\tConstruct a 99% confidence interval for $p$. Is it larger or narrower than the 95% confidence interval? Why? "
   ]
  },
  {
   "cell_type": "code",
   "execution_count": 19,
   "metadata": {},
   "outputs": [
    {
     "data": {
      "text/html": [
       "<style>\n",
       ".list-inline {list-style: none; margin:0; padding: 0}\n",
       ".list-inline>li {display: inline-block}\n",
       ".list-inline>li:not(:last-child)::after {content: \"\\00b7\"; padding: 0 .5ex}\n",
       "</style>\n",
       "<ol class=list-inline><li>0.602145742925782</li><li>0.686254257074217</li></ol>\n"
      ],
      "text/latex": [
       "\\begin{enumerate*}\n",
       "\\item 0.602145742925782\n",
       "\\item 0.686254257074217\n",
       "\\end{enumerate*}\n"
      ],
      "text/markdown": [
       "1. 0.602145742925782\n",
       "2. 0.686254257074217\n",
       "\n",
       "\n"
      ],
      "text/plain": [
       "[1] 0.6021457 0.6862543"
      ]
     },
     "metadata": {},
     "output_type": "display_data"
    }
   ],
   "source": [
    "# insert any code here for using R as your calculator\n",
    "c(p_hat - 2.576 * stnderro , p_hat + 2.576 * stnderro)"
   ]
  },
  {
   "cell_type": "markdown",
   "metadata": {},
   "source": [
    "➡️ Type your answer to _Exercise 2 Question 3_ here \n",
    "\n",
    "We learn that with 99% probability this confidence interval has the true p, the true fraction of respondents that opt to choose the safe working condition products and it is between 0.602145742925782 to 0.686254257074217 or 60.2145742925782% to 68.6254257074217%\n",
    "\n",
    "I followed the Z (normal) distribution because the sample size n is large and formed a rejection region on each tail as .5% and found the 2.576 value.\n",
    "\n",
    "This interval is larger than the 95% confidence interval because we are essentially increasing our confidence level, so we have to have a larger range of values to avoid error given that the confidence interval is randomized"
   ]
  },
  {
   "cell_type": "markdown",
   "metadata": {},
   "source": [
    "**4.**\tIs there statistical evidence that more than 60% of respondents chose the labor safe product? Use the 5 steps for hypothesis testing with a 5% significance level. "
   ]
  },
  {
   "cell_type": "code",
   "execution_count": 20,
   "metadata": {},
   "outputs": [
    {
     "data": {
      "text/html": [
       "2.70743577276995"
      ],
      "text/latex": [
       "2.70743577276995"
      ],
      "text/markdown": [
       "2.70743577276995"
      ],
      "text/plain": [
       "[1] 2.707436"
      ]
     },
     "metadata": {},
     "output_type": "display_data"
    },
    {
     "data": {
      "text/html": [
       "1.64485362695147"
      ],
      "text/latex": [
       "1.64485362695147"
      ],
      "text/markdown": [
       "1.64485362695147"
      ],
      "text/plain": [
       "[1] 1.644854"
      ]
     },
     "metadata": {},
     "output_type": "display_data"
    }
   ],
   "source": [
    "# insert any code here for using R as your calculator\n",
    "(p_hat - .60)/stnderro\n",
    "qnorm(.95)"
   ]
  },
  {
   "cell_type": "markdown",
   "metadata": {},
   "source": [
    "➡️ Type your answer to _Exercise 2 Question 4_ here \n",
    "\n",
    "**Step 1)** The null and alternate hypotheses: \n",
    "\n",
    "H0 : p <= 60% (the true fraction of respondents that opt to choose the safe working condition products less than or equal to 60%)\n",
    "\n",
    "H1 : p > 60% (the true fraction of respondents that opt to choose the safe working condition products greater than 60%)\n",
    "\n",
    "\n",
    "**Step 2)** To calculate our test statistic we would use firstly a z (normal) distribution given a large sample size n and estimate using phat and standard error of phat as follows: z = (p_hat - p_h0)/ se(p_hat) = (.6442 - .60)/0.0163254103548981 = 2.70743577276995\n",
    "\n",
    "**Step 3)** Our significance level is 5% (𝛼 = 0.05) We can use the normal distribution (z-table) because the data frame is larger and the one tailed critical value comes out to 1.64485362695147\n",
    "\n",
    "**Step 4)** We reject the null hypothesis if |t| > |c|. In this case: |2.70743577276995| > |1.64485362695147| is a true statement, and so we reject the null that the proportion of respondants that chose labor safe products is less than 60%. \n",
    "\n",
    "**Step 5)** Interpretation: We reject the null hypothesis. There is statistical evidence at the 5% level that more than 60% of respondents chose the labor safe product"
   ]
  },
  {
   "cell_type": "markdown",
   "metadata": {},
   "source": [
    "**5.**\tIs there statistical evidence that opting to choose the labor safe product is more likely for respondents that were directly exposed to COVID (or through a loved one) compared to respondents that were not exposed at the 1% significance level? Explain (to answer this question use the 5 steps for hypothesis testing). "
   ]
  },
  {
   "cell_type": "code",
   "execution_count": 21,
   "metadata": {},
   "outputs": [
    {
     "data": {
      "text/html": [
       "0.1152"
      ],
      "text/latex": [
       "0.1152"
      ],
      "text/markdown": [
       "0.1152"
      ],
      "text/plain": [
       "[1] 0.1152"
      ]
     },
     "metadata": {},
     "output_type": "display_data"
    },
    {
     "data": {
      "text/html": [
       "0.644206046511628"
      ],
      "text/latex": [
       "0.644206046511628"
      ],
      "text/markdown": [
       "0.644206046511628"
      ],
      "text/plain": [
       "[1] 0.644206"
      ]
     },
     "metadata": {},
     "output_type": "display_data"
    },
    {
     "data": {
      "text/html": [
       "0.0355855586070125"
      ],
      "text/latex": [
       "0.0355855586070125"
      ],
      "text/markdown": [
       "0.0355855586070125"
      ],
      "text/plain": [
       "[1] 0.03558556"
      ]
     },
     "metadata": {},
     "output_type": "display_data"
    },
    {
     "data": {
      "text/html": [
       "3.23726827706166"
      ],
      "text/latex": [
       "3.23726827706166"
      ],
      "text/markdown": [
       "3.23726827706166"
      ],
      "text/plain": [
       "[1] 3.237268"
      ]
     },
     "metadata": {},
     "output_type": "display_data"
    },
    {
     "data": {
      "text/html": [
       "2.32634787404084"
      ],
      "text/latex": [
       "2.32634787404084"
      ],
      "text/markdown": [
       "2.32634787404084"
      ],
      "text/plain": [
       "[1] 2.326348"
      ]
     },
     "metadata": {},
     "output_type": "display_data"
    }
   ],
   "source": [
    "# insert any code here for using R as your calculator\n",
    "p_chat = .6789\n",
    "cn = 601\n",
    "p_nhat = .5637\n",
    "nn = 259\n",
    "diff_estimate <- p_chat - p_nhat\n",
    "diff_estimate\n",
    "pooled_p <- ((cn*p_chat)/(cn+nn))+((nn*p_nhat)/(cn+nn))\n",
    "pooled_p\n",
    "se_dff <- sqrt(((pooled_p*(1-pooled_p))/(cn))+((pooled_p*(1-pooled_p))/(nn)))\n",
    "se_dff\n",
    "test_stat <- diff_estimate/se_dff\n",
    "test_stat\n",
    "qnorm(.99)"
   ]
  },
  {
   "cell_type": "markdown",
   "metadata": {},
   "source": [
    "➡️ Type your answer to _Exercise 2 Question 5_ here \n",
    "\n",
    "**Step 1)** The null and alternate hypotheses where p_c is the true proportion of respondants directly exposed to covid and p_n is the true proportion of respondants not exposed to covid: \n",
    "\n",
    "H0 : p_c = p_n\n",
    "\n",
    "H1 : p_c > p_n\n",
    "\n",
    "or alternatively \n",
    "\n",
    "H0 : p_c - p_n = 0\n",
    "\n",
    "H1: p_c - p_n > 0 \n",
    "\n",
    "\n",
    "**Step 2)** To calculate our test statistic we would use firstly a z (normal) distribution given a large sample size n and estimate using d_hat and standard error of d_hat where d_hat is the difference of the estimated proportion of respondants directly exposed to covid or not as (phat_c - phat_n) as follows: z = (d_hat - h0)/ se(d_hat) = (0.1152 - 0)/0.644206046511628 = 3.23726827706166\n",
    "\n",
    "Where the standard error is calculated using the pooled p_hat estimate from above code since the groups come from the same underlying distribution of choosing safe worker condition products \n",
    "\n",
    "**Step 3)** Our significance level is 1% (𝛼 = 0.01) We can use the normal distribution (z-table) because the data frame is big and the one tailed critical value comes out to 2.32634787404084\n",
    "\n",
    "**Step 4)** We reject the null hypothesis if |t| > |c|. In this case: |3.23726827706166| > |2.32634787404084| is a True statement, and so we reject the null that the opting to choose the labor safe product is more likely for respondents that were directly exposed to COVID (or through a loved one) compared to respondents that were not exposed at the 1% significance level.\n",
    "\n",
    "**Step 5)** Interpretation: We reject the null hypothesis. There is signifcant statistical evidence at the 1% level that the opting to choose the labor safe product is more likely for respondents that were directly exposed to COVID (or through a loved one) compared to respondents that were not exposed at the 1% significance level.\n"
   ]
  },
  {
   "cell_type": "markdown",
   "metadata": {},
   "source": [
    "**Please remember to submit your Jupyter Notebook displaying all codes and output.**"
   ]
  },
  {
   "cell_type": "markdown",
   "metadata": {},
   "source": [
    "<span id=\"fn1\"> Link to the working paper with Nica and Jackie: https://escholarship.org/uc/item/0nv2n39w.</span>"
   ]
  }
 ],
 "metadata": {
  "kernelspec": {
   "display_name": "R",
   "language": "R",
   "name": "ir"
  },
  "language_info": {
   "codemirror_mode": "r",
   "file_extension": ".r",
   "mimetype": "text/x-r-source",
   "name": "R",
   "pygments_lexer": "r",
   "version": "4.3.1"
  }
 },
 "nbformat": 4,
 "nbformat_minor": 4
}
